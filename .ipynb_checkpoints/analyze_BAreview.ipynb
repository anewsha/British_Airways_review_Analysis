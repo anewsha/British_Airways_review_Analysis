{
 "cells": [
  {
   "cell_type": "code",
   "execution_count": 1,
   "metadata": {},
   "outputs": [],
   "source": [
    "import pandas as pd\n",
    "from bs4 import BeautifulSoup as bs \n",
    "import requests\n",
    "import re"
   ]
  },
  {
   "cell_type": "code",
   "execution_count": 2,
   "metadata": {},
   "outputs": [],
   "source": [
    "import seaborn as sns\n",
    "import matplotlib.pyplot as plt"
   ]
  },
  {
   "cell_type": "code",
   "execution_count": 3,
   "metadata": {},
   "outputs": [],
   "source": [
    "import numpy as np"
   ]
  },
  {
   "cell_type": "code",
   "execution_count": 4,
   "metadata": {},
   "outputs": [],
   "source": [
    "from functions import onerow, run"
   ]
  },
  {
   "cell_type": "code",
   "execution_count": 5,
   "metadata": {},
   "outputs": [
    {
     "name": "stdout",
     "output_type": "stream",
     "text": [
      "   ---> 100 total reviews\n",
      "   ---> 200 total reviews\n",
      "   ---> 300 total reviews\n",
      "   ---> 400 total reviews\n",
      "   ---> 500 total reviews\n",
      "   ---> 600 total reviews\n",
      "   ---> 700 total reviews\n",
      "   ---> 800 total reviews\n",
      "   ---> 900 total reviews\n",
      "   ---> 1000 total reviews\n"
     ]
    }
   ],
   "source": [
    "page_no = 10\n",
    "page_size = 100\n",
    "base_url = \"https://www.airlinequality.com/airline-reviews/british-airways\"\n",
    "row = run(page_no,page_size, base_url)"
   ]
  },
  {
   "cell_type": "code",
   "execution_count": 6,
   "metadata": {},
   "outputs": [],
   "source": [
    "headers = [\n",
    "    'date', 'name', 'place', 'aircraft', 'type_of_traveller', 'seat_type', 'route', 'date_flown', \n",
    "    'seat_comfort', 'cabin_staff_service', 'food_and_beverages', 'inflight_entertainment', \n",
    "    'ground_service', 'value_for_money', 'recommended', 'ratingvalue', 'review_title', \n",
    "    'verification', 'review_content'\n",
    "]"
   ]
  },
  {
   "cell_type": "code",
   "execution_count": 7,
   "metadata": {},
   "outputs": [],
   "source": [
    "df = pd.DataFrame(row,columns=headers)"
   ]
  },
  {
   "cell_type": "code",
   "execution_count": 8,
   "metadata": {},
   "outputs": [
    {
     "data": {
      "text/html": [
       "<div>\n",
       "<style scoped>\n",
       "    .dataframe tbody tr th:only-of-type {\n",
       "        vertical-align: middle;\n",
       "    }\n",
       "\n",
       "    .dataframe tbody tr th {\n",
       "        vertical-align: top;\n",
       "    }\n",
       "\n",
       "    .dataframe thead th {\n",
       "        text-align: right;\n",
       "    }\n",
       "</style>\n",
       "<table border=\"1\" class=\"dataframe\">\n",
       "  <thead>\n",
       "    <tr style=\"text-align: right;\">\n",
       "      <th></th>\n",
       "      <th>date</th>\n",
       "      <th>name</th>\n",
       "      <th>place</th>\n",
       "      <th>aircraft</th>\n",
       "      <th>type_of_traveller</th>\n",
       "      <th>seat_type</th>\n",
       "      <th>route</th>\n",
       "      <th>date_flown</th>\n",
       "      <th>seat_comfort</th>\n",
       "      <th>cabin_staff_service</th>\n",
       "      <th>food_and_beverages</th>\n",
       "      <th>inflight_entertainment</th>\n",
       "      <th>ground_service</th>\n",
       "      <th>value_for_money</th>\n",
       "      <th>recommended</th>\n",
       "      <th>ratingvalue</th>\n",
       "      <th>review_title</th>\n",
       "      <th>verification</th>\n",
       "      <th>review_content</th>\n",
       "    </tr>\n",
       "  </thead>\n",
       "  <tbody>\n",
       "    <tr>\n",
       "      <th>0</th>\n",
       "      <td>2024-06-23</td>\n",
       "      <td>J Fang</td>\n",
       "      <td>Canada</td>\n",
       "      <td>A350-1000</td>\n",
       "      <td>Solo Leisure</td>\n",
       "      <td></td>\n",
       "      <td>London Heathrow to Vancouver</td>\n",
       "      <td>June 2024</td>\n",
       "      <td>2</td>\n",
       "      <td>2</td>\n",
       "      <td>1</td>\n",
       "      <td>2</td>\n",
       "      <td>2</td>\n",
       "      <td>1</td>\n",
       "      <td>no</td>\n",
       "      <td>3</td>\n",
       "      <td>cannot recommend BA</td>\n",
       "      <td>✅ Trip Verified</td>\n",
       "      <td>While BA may have made some positive improveme...</td>\n",
       "    </tr>\n",
       "    <tr>\n",
       "      <th>1</th>\n",
       "      <td>2024-06-23</td>\n",
       "      <td>J Fang</td>\n",
       "      <td>Canada</td>\n",
       "      <td>A350-1000</td>\n",
       "      <td>Solo Leisure</td>\n",
       "      <td></td>\n",
       "      <td>Vancouver to London Heathrow</td>\n",
       "      <td>June 2024</td>\n",
       "      <td>3</td>\n",
       "      <td>3</td>\n",
       "      <td>3</td>\n",
       "      <td>3</td>\n",
       "      <td>1</td>\n",
       "      <td>2</td>\n",
       "      <td>no</td>\n",
       "      <td>5</td>\n",
       "      <td>“a very poor last impression of BA”</td>\n",
       "      <td>✅ Trip Verified</td>\n",
       "      <td>British Airways new Club Suite is a marked imp...</td>\n",
       "    </tr>\n",
       "    <tr>\n",
       "      <th>2</th>\n",
       "      <td>2024-06-18</td>\n",
       "      <td>Caleb Lowe</td>\n",
       "      <td>United Kingdom</td>\n",
       "      <td>A320/A380</td>\n",
       "      <td>Couple Leisure</td>\n",
       "      <td></td>\n",
       "      <td>Belfast to San Francisco via London</td>\n",
       "      <td>April 2024</td>\n",
       "      <td>5</td>\n",
       "      <td>5</td>\n",
       "      <td>3</td>\n",
       "      <td>3</td>\n",
       "      <td>5</td>\n",
       "      <td>4</td>\n",
       "      <td>yes</td>\n",
       "      <td>9</td>\n",
       "      <td>happy to recommend BA</td>\n",
       "      <td>✅ Trip Verified</td>\n",
       "      <td>Four very pleasant, on time flights with frien...</td>\n",
       "    </tr>\n",
       "    <tr>\n",
       "      <th>3</th>\n",
       "      <td>2024-06-18</td>\n",
       "      <td>N Thomas</td>\n",
       "      <td>United Kingdom</td>\n",
       "      <td></td>\n",
       "      <td>Couple Leisure</td>\n",
       "      <td></td>\n",
       "      <td>London Heathrow to Keflavik</td>\n",
       "      <td>June 2024</td>\n",
       "      <td>2</td>\n",
       "      <td>3</td>\n",
       "      <td>1</td>\n",
       "      <td>0</td>\n",
       "      <td>3</td>\n",
       "      <td>2</td>\n",
       "      <td>no</td>\n",
       "      <td>2</td>\n",
       "      <td>cancelled our return flight</td>\n",
       "      <td>Not Verified</td>\n",
       "      <td>We travel extensively over 25 years and tend t...</td>\n",
       "    </tr>\n",
       "    <tr>\n",
       "      <th>4</th>\n",
       "      <td>2024-06-17</td>\n",
       "      <td>N Carter</td>\n",
       "      <td>United Kingdom</td>\n",
       "      <td>Boeing 777</td>\n",
       "      <td>Solo Leisure</td>\n",
       "      <td></td>\n",
       "      <td>New York JFK to London Heathrow</td>\n",
       "      <td>June 2024</td>\n",
       "      <td>5</td>\n",
       "      <td>5</td>\n",
       "      <td>4</td>\n",
       "      <td>3</td>\n",
       "      <td>1</td>\n",
       "      <td>2</td>\n",
       "      <td>yes</td>\n",
       "      <td>8</td>\n",
       "      <td>Very good experience all round</td>\n",
       "      <td>✅ Trip Verified</td>\n",
       "      <td>Flight delayed an hour due to bad weather arou...</td>\n",
       "    </tr>\n",
       "  </tbody>\n",
       "</table>\n",
       "</div>"
      ],
      "text/plain": [
       "         date        name           place    aircraft type_of_traveller  \\\n",
       "0  2024-06-23      J Fang          Canada   A350-1000      Solo Leisure   \n",
       "1  2024-06-23     J Fang           Canada   A350-1000      Solo Leisure   \n",
       "2  2024-06-18  Caleb Lowe  United Kingdom   A320/A380    Couple Leisure   \n",
       "3  2024-06-18    N Thomas  United Kingdom                Couple Leisure   \n",
       "4  2024-06-17    N Carter  United Kingdom  Boeing 777      Solo Leisure   \n",
       "\n",
       "  seat_type                                route  date_flown seat_comfort  \\\n",
       "0                   London Heathrow to Vancouver   June 2024            2   \n",
       "1                   Vancouver to London Heathrow   June 2024            3   \n",
       "2            Belfast to San Francisco via London  April 2024            5   \n",
       "3                    London Heathrow to Keflavik   June 2024            2   \n",
       "4                New York JFK to London Heathrow   June 2024            5   \n",
       "\n",
       "  cabin_staff_service food_and_beverages inflight_entertainment  \\\n",
       "0                   2                  1                      2   \n",
       "1                   3                  3                      3   \n",
       "2                   5                  3                      3   \n",
       "3                   3                  1                      0   \n",
       "4                   5                  4                      3   \n",
       "\n",
       "  ground_service value_for_money recommended ratingvalue  \\\n",
       "0              2               1          no           3   \n",
       "1              1               2          no           5   \n",
       "2              5               4         yes           9   \n",
       "3              3               2          no           2   \n",
       "4              1               2         yes           8   \n",
       "\n",
       "                          review_title     verification  \\\n",
       "0                  cannot recommend BA  ✅ Trip Verified   \n",
       "1  “a very poor last impression of BA”  ✅ Trip Verified   \n",
       "2                happy to recommend BA  ✅ Trip Verified   \n",
       "3          cancelled our return flight     Not Verified   \n",
       "4       Very good experience all round  ✅ Trip Verified   \n",
       "\n",
       "                                      review_content  \n",
       "0  While BA may have made some positive improveme...  \n",
       "1  British Airways new Club Suite is a marked imp...  \n",
       "2  Four very pleasant, on time flights with frien...  \n",
       "3  We travel extensively over 25 years and tend t...  \n",
       "4  Flight delayed an hour due to bad weather arou...  "
      ]
     },
     "execution_count": 8,
     "metadata": {},
     "output_type": "execute_result"
    }
   ],
   "source": [
    "df.head()"
   ]
  },
  {
   "cell_type": "code",
   "execution_count": 9,
   "metadata": {},
   "outputs": [],
   "source": [
    "# df.to_csv('BA_reviews.csv')"
   ]
  },
  {
   "cell_type": "code",
   "execution_count": 10,
   "metadata": {},
   "outputs": [
    {
     "name": "stdout",
     "output_type": "stream",
     "text": [
      "<class 'pandas.core.frame.DataFrame'>\n",
      "RangeIndex: 1000 entries, 0 to 999\n",
      "Data columns (total 19 columns):\n",
      " #   Column                  Non-Null Count  Dtype \n",
      "---  ------                  --------------  ----- \n",
      " 0   date                    1000 non-null   object\n",
      " 1   name                    1000 non-null   object\n",
      " 2   place                   1000 non-null   object\n",
      " 3   aircraft                1000 non-null   object\n",
      " 4   type_of_traveller       1000 non-null   object\n",
      " 5   seat_type               1000 non-null   object\n",
      " 6   route                   1000 non-null   object\n",
      " 7   date_flown              1000 non-null   object\n",
      " 8   seat_comfort            1000 non-null   object\n",
      " 9   cabin_staff_service     1000 non-null   object\n",
      " 10  food_and_beverages      1000 non-null   object\n",
      " 11  inflight_entertainment  1000 non-null   object\n",
      " 12  ground_service          1000 non-null   object\n",
      " 13  value_for_money         1000 non-null   object\n",
      " 14  recommended             1000 non-null   object\n",
      " 15  ratingvalue             1000 non-null   object\n",
      " 16  review_title            1000 non-null   object\n",
      " 17  verification            1000 non-null   object\n",
      " 18  review_content          1000 non-null   object\n",
      "dtypes: object(19)\n",
      "memory usage: 148.6+ KB\n"
     ]
    }
   ],
   "source": [
    "df.info()"
   ]
  },
  {
   "cell_type": "code",
   "execution_count": 11,
   "metadata": {},
   "outputs": [
    {
     "data": {
      "text/html": [
       "<div>\n",
       "<style scoped>\n",
       "    .dataframe tbody tr th:only-of-type {\n",
       "        vertical-align: middle;\n",
       "    }\n",
       "\n",
       "    .dataframe tbody tr th {\n",
       "        vertical-align: top;\n",
       "    }\n",
       "\n",
       "    .dataframe thead th {\n",
       "        text-align: right;\n",
       "    }\n",
       "</style>\n",
       "<table border=\"1\" class=\"dataframe\">\n",
       "  <thead>\n",
       "    <tr style=\"text-align: right;\">\n",
       "      <th></th>\n",
       "      <th>date</th>\n",
       "      <th>name</th>\n",
       "      <th>place</th>\n",
       "      <th>aircraft</th>\n",
       "      <th>type_of_traveller</th>\n",
       "      <th>seat_type</th>\n",
       "      <th>route</th>\n",
       "      <th>date_flown</th>\n",
       "      <th>seat_comfort</th>\n",
       "      <th>cabin_staff_service</th>\n",
       "      <th>food_and_beverages</th>\n",
       "      <th>inflight_entertainment</th>\n",
       "      <th>ground_service</th>\n",
       "      <th>value_for_money</th>\n",
       "      <th>recommended</th>\n",
       "      <th>ratingvalue</th>\n",
       "      <th>review_title</th>\n",
       "      <th>verification</th>\n",
       "      <th>review_content</th>\n",
       "    </tr>\n",
       "  </thead>\n",
       "  <tbody>\n",
       "    <tr>\n",
       "      <th>count</th>\n",
       "      <td>1000</td>\n",
       "      <td>1000</td>\n",
       "      <td>1000</td>\n",
       "      <td>1000</td>\n",
       "      <td>1000</td>\n",
       "      <td>1000</td>\n",
       "      <td>1000</td>\n",
       "      <td>1000</td>\n",
       "      <td>1000</td>\n",
       "      <td>1000</td>\n",
       "      <td>1000</td>\n",
       "      <td>1000</td>\n",
       "      <td>1000</td>\n",
       "      <td>1000</td>\n",
       "      <td>1000</td>\n",
       "      <td>1000</td>\n",
       "      <td>1000</td>\n",
       "      <td>1000</td>\n",
       "      <td>1000</td>\n",
       "    </tr>\n",
       "    <tr>\n",
       "      <th>unique</th>\n",
       "      <td>713</td>\n",
       "      <td>865</td>\n",
       "      <td>55</td>\n",
       "      <td>81</td>\n",
       "      <td>5</td>\n",
       "      <td>1</td>\n",
       "      <td>649</td>\n",
       "      <td>67</td>\n",
       "      <td>6</td>\n",
       "      <td>6</td>\n",
       "      <td>6</td>\n",
       "      <td>6</td>\n",
       "      <td>6</td>\n",
       "      <td>5</td>\n",
       "      <td>2</td>\n",
       "      <td>10</td>\n",
       "      <td>985</td>\n",
       "      <td>4</td>\n",
       "      <td>1000</td>\n",
       "    </tr>\n",
       "    <tr>\n",
       "      <th>top</th>\n",
       "      <td>2019-12-08</td>\n",
       "      <td>E Smyth</td>\n",
       "      <td>United Kingdom</td>\n",
       "      <td></td>\n",
       "      <td>Couple Leisure</td>\n",
       "      <td></td>\n",
       "      <td>Vancouver to London</td>\n",
       "      <td>October 2019</td>\n",
       "      <td>1</td>\n",
       "      <td>5</td>\n",
       "      <td>1</td>\n",
       "      <td>0</td>\n",
       "      <td>1</td>\n",
       "      <td>1</td>\n",
       "      <td>no</td>\n",
       "      <td>1</td>\n",
       "      <td>Overall a good flight</td>\n",
       "      <td>✅ Trip Verified</td>\n",
       "      <td>While BA may have made some positive improveme...</td>\n",
       "    </tr>\n",
       "    <tr>\n",
       "      <th>freq</th>\n",
       "      <td>7</td>\n",
       "      <td>19</td>\n",
       "      <td>566</td>\n",
       "      <td>466</td>\n",
       "      <td>343</td>\n",
       "      <td>1000</td>\n",
       "      <td>9</td>\n",
       "      <td>36</td>\n",
       "      <td>252</td>\n",
       "      <td>248</td>\n",
       "      <td>261</td>\n",
       "      <td>478</td>\n",
       "      <td>396</td>\n",
       "      <td>448</td>\n",
       "      <td>680</td>\n",
       "      <td>365</td>\n",
       "      <td>3</td>\n",
       "      <td>759</td>\n",
       "      <td>1</td>\n",
       "    </tr>\n",
       "  </tbody>\n",
       "</table>\n",
       "</div>"
      ],
      "text/plain": [
       "              date     name           place aircraft type_of_traveller  \\\n",
       "count         1000     1000            1000     1000              1000   \n",
       "unique         713      865              55       81                 5   \n",
       "top     2019-12-08  E Smyth  United Kingdom             Couple Leisure   \n",
       "freq             7       19             566      466               343   \n",
       "\n",
       "       seat_type                route    date_flown seat_comfort  \\\n",
       "count       1000                 1000          1000         1000   \n",
       "unique         1                  649            67            6   \n",
       "top               Vancouver to London  October 2019            1   \n",
       "freq        1000                    9            36          252   \n",
       "\n",
       "       cabin_staff_service food_and_beverages inflight_entertainment  \\\n",
       "count                 1000               1000                   1000   \n",
       "unique                   6                  6                      6   \n",
       "top                      5                  1                      0   \n",
       "freq                   248                261                    478   \n",
       "\n",
       "       ground_service value_for_money recommended ratingvalue  \\\n",
       "count            1000            1000        1000        1000   \n",
       "unique              6               5           2          10   \n",
       "top                 1               1          no           1   \n",
       "freq              396             448         680         365   \n",
       "\n",
       "                 review_title     verification  \\\n",
       "count                    1000             1000   \n",
       "unique                    985                4   \n",
       "top     Overall a good flight  ✅ Trip Verified   \n",
       "freq                        3              759   \n",
       "\n",
       "                                           review_content  \n",
       "count                                                1000  \n",
       "unique                                               1000  \n",
       "top     While BA may have made some positive improveme...  \n",
       "freq                                                    1  "
      ]
     },
     "execution_count": 11,
     "metadata": {},
     "output_type": "execute_result"
    }
   ],
   "source": [
    "df.describe(include='object')"
   ]
  },
  {
   "cell_type": "markdown",
   "metadata": {},
   "source": [
    "- sentiment analysis on review content \n",
    "- review counts over time \n",
    "- date and ratingvalue\n",
    "- date_flown and ratingvalue \n",
    "- compare aircrafts and ratingvalue\n",
    "- type_of_traveller and ratingvalue\n",
    "- verification and ratingvalue\n",
    "- correlation of other ratings for each ratingvalue\n",
    "- frequency of recomended\n",
    "- frequency of ratingvalue\n",
    "- recomended and ratingvalue\n",
    "- recomended and verification\n",
    "- route and ground_service \n",
    "- route and food_and_beverages\n",
    "- aircraft and seat_comfort\n",
    "- aircraft and inflight_entertainment \n",
    "- type_of_traveller and seat_comfort\n",
    "- type_of_traveller and cabin_and_staff_services \n"
   ]
  },
  {
   "cell_type": "code",
   "execution_count": 12,
   "metadata": {},
   "outputs": [],
   "source": [
    "df['date'] = pd.to_datetime(df['date'])"
   ]
  },
  {
   "cell_type": "code",
   "execution_count": 13,
   "metadata": {},
   "outputs": [],
   "source": [
    "df['date_flown'] = pd.to_datetime(df['date_flown'], format ='%B %Y')"
   ]
  },
  {
   "cell_type": "code",
   "execution_count": 14,
   "metadata": {},
   "outputs": [
    {
     "name": "stderr",
     "output_type": "stream",
     "text": [
      "C:\\Users\\anush\\AppData\\Local\\Temp\\ipykernel_20676\\3413477750.py:1: FutureWarning: Downcasting behavior in `replace` is deprecated and will be removed in a future version. To retain the old behavior, explicitly call `result.infer_objects(copy=False)`. To opt-in to the future behavior, set `pd.set_option('future.no_silent_downcasting', True)`\n",
      "  df = df.replace('',np.nan)\n"
     ]
    }
   ],
   "source": [
    "df = df.replace('',np.nan)\n"
   ]
  },
  {
   "cell_type": "code",
   "execution_count": 15,
   "metadata": {},
   "outputs": [
    {
     "data": {
      "text/plain": [
       "date                         0\n",
       "name                         0\n",
       "place                        0\n",
       "aircraft                   466\n",
       "type_of_traveller            2\n",
       "seat_type                 1000\n",
       "route                        3\n",
       "date_flown                   0\n",
       "seat_comfort                 0\n",
       "cabin_staff_service          0\n",
       "food_and_beverages           0\n",
       "inflight_entertainment       0\n",
       "ground_service               0\n",
       "value_for_money              0\n",
       "recommended                  0\n",
       "ratingvalue                  0\n",
       "review_title                 0\n",
       "verification                 0\n",
       "review_content               0\n",
       "dtype: int64"
      ]
     },
     "execution_count": 15,
     "metadata": {},
     "output_type": "execute_result"
    }
   ],
   "source": [
    "df.isna().sum()"
   ]
  },
  {
   "cell_type": "code",
   "execution_count": 16,
   "metadata": {},
   "outputs": [],
   "source": [
    "df.drop(['seat_type'], axis=1, inplace=True)"
   ]
  },
  {
   "cell_type": "code",
   "execution_count": 17,
   "metadata": {},
   "outputs": [],
   "source": [
    "df['aircraft']=df['aircraft'].fillna('Missing')"
   ]
  },
  {
   "cell_type": "code",
   "execution_count": 18,
   "metadata": {},
   "outputs": [],
   "source": [
    "df['type_of_traveller']=df['type_of_traveller'].fillna(df['type_of_traveller'].mode().iloc[0])"
   ]
  },
  {
   "cell_type": "code",
   "execution_count": 19,
   "metadata": {},
   "outputs": [],
   "source": [
    "df['route']=df['route'].fillna(df['route'].mode().iloc[0])"
   ]
  },
  {
   "cell_type": "code",
   "execution_count": 20,
   "metadata": {},
   "outputs": [],
   "source": [
    "ALL_ratings = ['seat_comfort', 'cabin_staff_service','food_and_beverages','inflight_entertainment','ground_service','value_for_money','ratingvalue']\n",
    "df[ALL_ratings] = df[ALL_ratings].apply(pd.to_numeric)\n"
   ]
  },
  {
   "cell_type": "code",
   "execution_count": 21,
   "metadata": {},
   "outputs": [],
   "source": [
    "df['recommended'] = df['recommended'].map({'yes':1, 'no':0})"
   ]
  },
  {
   "cell_type": "code",
   "execution_count": 22,
   "metadata": {},
   "outputs": [
    {
     "data": {
      "text/plain": [
       "array(['✅ Trip Verified', 'Not Verified', 'cNot Verified',\n",
       "       '❎ Not Verified'], dtype=object)"
      ]
     },
     "execution_count": 22,
     "metadata": {},
     "output_type": "execute_result"
    }
   ],
   "source": [
    "df['verification'].unique()"
   ]
  },
  {
   "cell_type": "code",
   "execution_count": 23,
   "metadata": {},
   "outputs": [],
   "source": [
    "df['verification'] = df['verification'].map({'✅ Trip Verified':1,'Not Verified':0,'cNot Verified':0,'❎ Not Verified':0})"
   ]
  },
  {
   "cell_type": "code",
   "execution_count": 24,
   "metadata": {},
   "outputs": [
    {
     "data": {
      "text/plain": [
       "array([1, 0], dtype=int64)"
      ]
     },
     "execution_count": 24,
     "metadata": {},
     "output_type": "execute_result"
    }
   ],
   "source": [
    "df['verification'].unique()"
   ]
  },
  {
   "cell_type": "code",
   "execution_count": 25,
   "metadata": {},
   "outputs": [
    {
     "data": {
      "text/html": [
       "<div>\n",
       "<style scoped>\n",
       "    .dataframe tbody tr th:only-of-type {\n",
       "        vertical-align: middle;\n",
       "    }\n",
       "\n",
       "    .dataframe tbody tr th {\n",
       "        vertical-align: top;\n",
       "    }\n",
       "\n",
       "    .dataframe thead th {\n",
       "        text-align: right;\n",
       "    }\n",
       "</style>\n",
       "<table border=\"1\" class=\"dataframe\">\n",
       "  <thead>\n",
       "    <tr style=\"text-align: right;\">\n",
       "      <th></th>\n",
       "      <th>date</th>\n",
       "      <th>date_flown</th>\n",
       "      <th>seat_comfort</th>\n",
       "      <th>cabin_staff_service</th>\n",
       "      <th>food_and_beverages</th>\n",
       "      <th>inflight_entertainment</th>\n",
       "      <th>ground_service</th>\n",
       "      <th>value_for_money</th>\n",
       "      <th>recommended</th>\n",
       "      <th>ratingvalue</th>\n",
       "      <th>verification</th>\n",
       "    </tr>\n",
       "  </thead>\n",
       "  <tbody>\n",
       "    <tr>\n",
       "      <th>count</th>\n",
       "      <td>1000</td>\n",
       "      <td>1000</td>\n",
       "      <td>1000.000000</td>\n",
       "      <td>1000.000000</td>\n",
       "      <td>1000.000000</td>\n",
       "      <td>1000.000000</td>\n",
       "      <td>1000.00000</td>\n",
       "      <td>1000.000000</td>\n",
       "      <td>1000.00000</td>\n",
       "      <td>1000.000000</td>\n",
       "      <td>1000.000000</td>\n",
       "    </tr>\n",
       "    <tr>\n",
       "      <th>mean</th>\n",
       "      <td>2021-12-30 14:18:14.400000</td>\n",
       "      <td>2021-11-23 16:53:45.600000</td>\n",
       "      <td>2.487000</td>\n",
       "      <td>2.848000</td>\n",
       "      <td>2.076000</td>\n",
       "      <td>1.459000</td>\n",
       "      <td>2.40200</td>\n",
       "      <td>2.363000</td>\n",
       "      <td>0.32000</td>\n",
       "      <td>4.043000</td>\n",
       "      <td>0.759000</td>\n",
       "    </tr>\n",
       "    <tr>\n",
       "      <th>min</th>\n",
       "      <td>2019-05-22 00:00:00</td>\n",
       "      <td>2018-09-01 00:00:00</td>\n",
       "      <td>0.000000</td>\n",
       "      <td>0.000000</td>\n",
       "      <td>0.000000</td>\n",
       "      <td>0.000000</td>\n",
       "      <td>0.00000</td>\n",
       "      <td>1.000000</td>\n",
       "      <td>0.00000</td>\n",
       "      <td>1.000000</td>\n",
       "      <td>0.000000</td>\n",
       "    </tr>\n",
       "    <tr>\n",
       "      <th>25%</th>\n",
       "      <td>2020-01-22 18:00:00</td>\n",
       "      <td>2020-01-01 00:00:00</td>\n",
       "      <td>1.000000</td>\n",
       "      <td>1.000000</td>\n",
       "      <td>1.000000</td>\n",
       "      <td>0.000000</td>\n",
       "      <td>1.00000</td>\n",
       "      <td>1.000000</td>\n",
       "      <td>0.00000</td>\n",
       "      <td>1.000000</td>\n",
       "      <td>1.000000</td>\n",
       "    </tr>\n",
       "    <tr>\n",
       "      <th>50%</th>\n",
       "      <td>2022-05-18 00:00:00</td>\n",
       "      <td>2022-04-01 00:00:00</td>\n",
       "      <td>3.000000</td>\n",
       "      <td>3.000000</td>\n",
       "      <td>2.000000</td>\n",
       "      <td>1.000000</td>\n",
       "      <td>2.00000</td>\n",
       "      <td>2.000000</td>\n",
       "      <td>0.00000</td>\n",
       "      <td>3.000000</td>\n",
       "      <td>1.000000</td>\n",
       "    </tr>\n",
       "    <tr>\n",
       "      <th>75%</th>\n",
       "      <td>2023-06-08 12:00:00</td>\n",
       "      <td>2023-05-01 00:00:00</td>\n",
       "      <td>4.000000</td>\n",
       "      <td>4.000000</td>\n",
       "      <td>3.250000</td>\n",
       "      <td>3.000000</td>\n",
       "      <td>4.00000</td>\n",
       "      <td>4.000000</td>\n",
       "      <td>1.00000</td>\n",
       "      <td>7.000000</td>\n",
       "      <td>1.000000</td>\n",
       "    </tr>\n",
       "    <tr>\n",
       "      <th>max</th>\n",
       "      <td>2024-06-23 00:00:00</td>\n",
       "      <td>2024-06-01 00:00:00</td>\n",
       "      <td>5.000000</td>\n",
       "      <td>5.000000</td>\n",
       "      <td>5.000000</td>\n",
       "      <td>5.000000</td>\n",
       "      <td>5.00000</td>\n",
       "      <td>5.000000</td>\n",
       "      <td>1.00000</td>\n",
       "      <td>10.000000</td>\n",
       "      <td>1.000000</td>\n",
       "    </tr>\n",
       "    <tr>\n",
       "      <th>std</th>\n",
       "      <td>NaN</td>\n",
       "      <td>NaN</td>\n",
       "      <td>1.526487</td>\n",
       "      <td>1.714011</td>\n",
       "      <td>1.703857</td>\n",
       "      <td>1.748535</td>\n",
       "      <td>1.60841</td>\n",
       "      <td>1.472209</td>\n",
       "      <td>0.46671</td>\n",
       "      <td>3.265243</td>\n",
       "      <td>0.427904</td>\n",
       "    </tr>\n",
       "  </tbody>\n",
       "</table>\n",
       "</div>"
      ],
      "text/plain": [
       "                             date                  date_flown  seat_comfort  \\\n",
       "count                        1000                        1000   1000.000000   \n",
       "mean   2021-12-30 14:18:14.400000  2021-11-23 16:53:45.600000      2.487000   \n",
       "min           2019-05-22 00:00:00         2018-09-01 00:00:00      0.000000   \n",
       "25%           2020-01-22 18:00:00         2020-01-01 00:00:00      1.000000   \n",
       "50%           2022-05-18 00:00:00         2022-04-01 00:00:00      3.000000   \n",
       "75%           2023-06-08 12:00:00         2023-05-01 00:00:00      4.000000   \n",
       "max           2024-06-23 00:00:00         2024-06-01 00:00:00      5.000000   \n",
       "std                           NaN                         NaN      1.526487   \n",
       "\n",
       "       cabin_staff_service  food_and_beverages  inflight_entertainment  \\\n",
       "count          1000.000000         1000.000000             1000.000000   \n",
       "mean              2.848000            2.076000                1.459000   \n",
       "min               0.000000            0.000000                0.000000   \n",
       "25%               1.000000            1.000000                0.000000   \n",
       "50%               3.000000            2.000000                1.000000   \n",
       "75%               4.000000            3.250000                3.000000   \n",
       "max               5.000000            5.000000                5.000000   \n",
       "std               1.714011            1.703857                1.748535   \n",
       "\n",
       "       ground_service  value_for_money  recommended  ratingvalue  verification  \n",
       "count      1000.00000      1000.000000   1000.00000  1000.000000   1000.000000  \n",
       "mean          2.40200         2.363000      0.32000     4.043000      0.759000  \n",
       "min           0.00000         1.000000      0.00000     1.000000      0.000000  \n",
       "25%           1.00000         1.000000      0.00000     1.000000      1.000000  \n",
       "50%           2.00000         2.000000      0.00000     3.000000      1.000000  \n",
       "75%           4.00000         4.000000      1.00000     7.000000      1.000000  \n",
       "max           5.00000         5.000000      1.00000    10.000000      1.000000  \n",
       "std           1.60841         1.472209      0.46671     3.265243      0.427904  "
      ]
     },
     "execution_count": 25,
     "metadata": {},
     "output_type": "execute_result"
    }
   ],
   "source": [
    "df.describe()"
   ]
  },
  {
   "cell_type": "markdown",
   "metadata": {},
   "source": [
    "## Review counts over time"
   ]
  },
  {
   "cell_type": "code",
   "execution_count": 26,
   "metadata": {},
   "outputs": [
    {
     "data": {
      "text/plain": [
       "<Axes: xlabel='date'>"
      ]
     },
     "execution_count": 26,
     "metadata": {},
     "output_type": "execute_result"
    },
    {
     "data": {
      "image/png": "[encoded data removed]",
      "text/plain": [
       "<Figure size 640x480 with 1 Axes>"
      ]
     },
     "metadata": {},
     "output_type": "display_data"
    }
   ],
   "source": [
    "reviews_over_time = df.groupby(df['date'].dt.year).size()\n",
    "reviews_over_time.plot(kind='bar')\n"
   ]
  },
  {
   "cell_type": "markdown",
   "metadata": {},
   "source": [
    "## Date and reviews"
   ]
  },
  {
   "cell_type": "code",
   "execution_count": 27,
   "metadata": {},
   "outputs": [
    {
     "data": {
      "text/html": [
       "<div>\n",
       "<style scoped>\n",
       "    .dataframe tbody tr th:only-of-type {\n",
       "        vertical-align: middle;\n",
       "    }\n",
       "\n",
       "    .dataframe tbody tr th {\n",
       "        vertical-align: top;\n",
       "    }\n",
       "\n",
       "    .dataframe thead th {\n",
       "        text-align: right;\n",
       "    }\n",
       "</style>\n",
       "<table border=\"1\" class=\"dataframe\">\n",
       "  <thead>\n",
       "    <tr style=\"text-align: right;\">\n",
       "      <th></th>\n",
       "      <th>date</th>\n",
       "      <th>ratingvalue</th>\n",
       "    </tr>\n",
       "  </thead>\n",
       "  <tbody>\n",
       "    <tr>\n",
       "      <th>0</th>\n",
       "      <td>2019</td>\n",
       "      <td>4.725664</td>\n",
       "    </tr>\n",
       "    <tr>\n",
       "      <th>1</th>\n",
       "      <td>2020</td>\n",
       "      <td>4.336538</td>\n",
       "    </tr>\n",
       "    <tr>\n",
       "      <th>2</th>\n",
       "      <td>2021</td>\n",
       "      <td>4.298851</td>\n",
       "    </tr>\n",
       "    <tr>\n",
       "      <th>3</th>\n",
       "      <td>2022</td>\n",
       "      <td>3.995305</td>\n",
       "    </tr>\n",
       "    <tr>\n",
       "      <th>4</th>\n",
       "      <td>2023</td>\n",
       "      <td>3.350000</td>\n",
       "    </tr>\n",
       "    <tr>\n",
       "      <th>5</th>\n",
       "      <td>2024</td>\n",
       "      <td>4.011111</td>\n",
       "    </tr>\n",
       "  </tbody>\n",
       "</table>\n",
       "</div>"
      ],
      "text/plain": [
       "   date  ratingvalue\n",
       "0  2019     4.725664\n",
       "1  2020     4.336538\n",
       "2  2021     4.298851\n",
       "3  2022     3.995305\n",
       "4  2023     3.350000\n",
       "5  2024     4.011111"
      ]
     },
     "execution_count": 27,
     "metadata": {},
     "output_type": "execute_result"
    }
   ],
   "source": [
    "posted_date = df.groupby(df['date'].dt.year)['ratingvalue'].mean().reset_index()\n",
    "posted_date"
   ]
  },
  {
   "cell_type": "code",
   "execution_count": 28,
   "metadata": {},
   "outputs": [
    {
     "data": {
      "text/plain": [
       "<Axes: xlabel='date', ylabel='ratingvalue'>"
      ]
     },
     "execution_count": 28,
     "metadata": {},
     "output_type": "execute_result"
    },
    {
     "data": {
      "image/png": "[encoded data removed]",
      "text/plain": [
       "<Figure size 640x480 with 1 Axes>"
      ]
     },
     "metadata": {},
     "output_type": "display_data"
    }
   ],
   "source": [
    "sns.lineplot(x='date', y='ratingvalue', data=posted_date)"
   ]
  },
  {
   "cell_type": "markdown",
   "metadata": {},
   "source": [
    "The year 2023 has the most number of reviews but the overall ratings are poor. "
   ]
  },
  {
   "cell_type": "markdown",
   "metadata": {},
   "source": [
    "## Date flown and rating"
   ]
  },
  {
   "cell_type": "code",
   "execution_count": 29,
   "metadata": {},
   "outputs": [
    {
     "data": {
      "text/plain": [
       "<Axes: xlabel='date_flown', ylabel='ratingvalue'>"
      ]
     },
     "execution_count": 29,
     "metadata": {},
     "output_type": "execute_result"
    },
    {
     "data": {
      "image/png": "[encoded data removed]",
      "text/plain": [
       "<Figure size 640x480 with 1 Axes>"
      ]
     },
     "metadata": {},
     "output_type": "display_data"
    }
   ],
   "source": [
    "flown_date = df.groupby(df['date_flown'].dt.year)['ratingvalue'].mean().reset_index()\n",
    "sns.lineplot(x='date_flown', y='ratingvalue', data=flown_date)"
   ]
  },
  {
   "cell_type": "markdown",
   "metadata": {},
   "source": [
    "## Aircrafts and reviews"
   ]
  },
  {
   "cell_type": "markdown",
   "metadata": {},
   "source": [
    "## Type of traveller and ratings"
   ]
  },
  {
   "cell_type": "code",
   "execution_count": 30,
   "metadata": {},
   "outputs": [
    {
     "data": {
      "text/plain": [
       "array(['Solo Leisure', 'Couple Leisure', 'Business', 'Family Leisure'],\n",
       "      dtype=object)"
      ]
     },
     "execution_count": 30,
     "metadata": {},
     "output_type": "execute_result"
    }
   ],
   "source": [
    "df['type_of_traveller'].unique()"
   ]
  },
  {
   "cell_type": "code",
   "execution_count": 31,
   "metadata": {},
   "outputs": [
    {
     "data": {
      "text/plain": [
       "<Axes: xlabel='type_of_traveller'>"
      ]
     },
     "execution_count": 31,
     "metadata": {},
     "output_type": "execute_result"
    },
    {
     "data": {
      "image/png": "[encoded data removed]",
      "text/plain": [
       "<Figure size 640x480 with 1 Axes>"
      ]
     },
     "metadata": {},
     "output_type": "display_data"
    }
   ],
   "source": [
    "traveller = df.groupby('type_of_traveller')['ratingvalue'].mean()\n",
    "traveller.plot(kind='bar')"
   ]
  },
  {
   "cell_type": "code",
   "execution_count": 32,
   "metadata": {},
   "outputs": [
    {
     "data": {
      "text/html": [
       "<div>\n",
       "<style scoped>\n",
       "    .dataframe tbody tr th:only-of-type {\n",
       "        vertical-align: middle;\n",
       "    }\n",
       "\n",
       "    .dataframe tbody tr th {\n",
       "        vertical-align: top;\n",
       "    }\n",
       "\n",
       "    .dataframe thead th {\n",
       "        text-align: right;\n",
       "    }\n",
       "</style>\n",
       "<table border=\"1\" class=\"dataframe\">\n",
       "  <thead>\n",
       "    <tr style=\"text-align: right;\">\n",
       "      <th></th>\n",
       "      <th>seat_comfort</th>\n",
       "      <th>cabin_staff_service</th>\n",
       "      <th>food_and_beverages</th>\n",
       "      <th>inflight_entertainment</th>\n",
       "      <th>ground_service</th>\n",
       "      <th>value_for_money</th>\n",
       "      <th>ratingvalue</th>\n",
       "    </tr>\n",
       "    <tr>\n",
       "      <th>type_of_traveller</th>\n",
       "      <th></th>\n",
       "      <th></th>\n",
       "      <th></th>\n",
       "      <th></th>\n",
       "      <th></th>\n",
       "      <th></th>\n",
       "      <th></th>\n",
       "    </tr>\n",
       "  </thead>\n",
       "  <tbody>\n",
       "    <tr>\n",
       "      <th>Business</th>\n",
       "      <td>2.240223</td>\n",
       "      <td>2.592179</td>\n",
       "      <td>1.810056</td>\n",
       "      <td>1.122905</td>\n",
       "      <td>2.083799</td>\n",
       "      <td>2.016760</td>\n",
       "      <td>3.229050</td>\n",
       "    </tr>\n",
       "    <tr>\n",
       "      <th>Couple Leisure</th>\n",
       "      <td>2.550725</td>\n",
       "      <td>2.889855</td>\n",
       "      <td>2.156522</td>\n",
       "      <td>1.466667</td>\n",
       "      <td>2.518841</td>\n",
       "      <td>2.382609</td>\n",
       "      <td>4.165217</td>\n",
       "    </tr>\n",
       "    <tr>\n",
       "      <th>Family Leisure</th>\n",
       "      <td>2.322981</td>\n",
       "      <td>2.763975</td>\n",
       "      <td>1.894410</td>\n",
       "      <td>1.645963</td>\n",
       "      <td>2.204969</td>\n",
       "      <td>2.347826</td>\n",
       "      <td>3.844720</td>\n",
       "    </tr>\n",
       "    <tr>\n",
       "      <th>Solo Leisure</th>\n",
       "      <td>2.641270</td>\n",
       "      <td>2.990476</td>\n",
       "      <td>2.231746</td>\n",
       "      <td>1.546032</td>\n",
       "      <td>2.555556</td>\n",
       "      <td>2.546032</td>\n",
       "      <td>4.473016</td>\n",
       "    </tr>\n",
       "  </tbody>\n",
       "</table>\n",
       "</div>"
      ],
      "text/plain": [
       "                   seat_comfort  cabin_staff_service  food_and_beverages  \\\n",
       "type_of_traveller                                                          \n",
       "Business               2.240223             2.592179            1.810056   \n",
       "Couple Leisure         2.550725             2.889855            2.156522   \n",
       "Family Leisure         2.322981             2.763975            1.894410   \n",
       "Solo Leisure           2.641270             2.990476            2.231746   \n",
       "\n",
       "                   inflight_entertainment  ground_service  value_for_money  \\\n",
       "type_of_traveller                                                            \n",
       "Business                         1.122905        2.083799         2.016760   \n",
       "Couple Leisure                   1.466667        2.518841         2.382609   \n",
       "Family Leisure                   1.645963        2.204969         2.347826   \n",
       "Solo Leisure                     1.546032        2.555556         2.546032   \n",
       "\n",
       "                   ratingvalue  \n",
       "type_of_traveller               \n",
       "Business              3.229050  \n",
       "Couple Leisure        4.165217  \n",
       "Family Leisure        3.844720  \n",
       "Solo Leisure          4.473016  "
      ]
     },
     "execution_count": 32,
     "metadata": {},
     "output_type": "execute_result"
    }
   ],
   "source": [
    "traveller = df.groupby('type_of_traveller')[ALL_ratings].mean()\n",
    "traveller"
   ]
  },
  {
   "cell_type": "code",
   "execution_count": 33,
   "metadata": {},
   "outputs": [
    {
     "data": {
      "text/plain": [
       "<Axes: ylabel='type_of_traveller'>"
      ]
     },
     "execution_count": 33,
     "metadata": {},
     "output_type": "execute_result"
    },
    {
     "data": {
      "image/png": "[encoded data removed]",
      "text/plain": [
       "<Figure size 640x480 with 2 Axes>"
      ]
     },
     "metadata": {},
     "output_type": "display_data"
    }
   ],
   "source": [
    "sns.heatmap(traveller,annot=True, cmap='viridis', fmt=\".2f\")"
   ]
  },
  {
   "cell_type": "markdown",
   "metadata": {},
   "source": [
    "We can see that the lowest reviews were from business travellers \n",
    "\n",
    "Solo leisure travellers have comparatively better ratings"
   ]
  },
  {
   "cell_type": "code",
   "execution_count": null,
   "metadata": {},
   "outputs": [],
   "source": []
  },
  {
   "cell_type": "markdown",
   "metadata": {},
   "source": [
    "##  verification and ratingvalue"
   ]
  },
  {
   "cell_type": "code",
   "execution_count": 34,
   "metadata": {},
   "outputs": [
    {
     "data": {
      "text/plain": [
       "Text(0.5, 1.0, 'Count of Verification Status')"
      ]
     },
     "execution_count": 34,
     "metadata": {},
     "output_type": "execute_result"
    },
    {
     "data": {
      "image/png": "[encoded data removed]",
      "text/plain": [
       "<Figure size 640x480 with 1 Axes>"
      ]
     },
     "metadata": {},
     "output_type": "display_data"
    }
   ],
   "source": [
    "df['verification'].value_counts().plot(kind='bar')\n",
    "plt.xlabel('Verification Status')\n",
    "plt.ylabel('Count')\n",
    "plt.title('Count of Verification Status')\n"
   ]
  },
  {
   "cell_type": "code",
   "execution_count": 35,
   "metadata": {},
   "outputs": [
    {
     "data": {
      "text/plain": [
       "Text(0.5, 1.0, 'average of Verification Status')"
      ]
     },
     "execution_count": 35,
     "metadata": {},
     "output_type": "execute_result"
    },
    {
     "data": {
      "image/png": "[encoded data removed]",
      "text/plain": [
       "<Figure size 640x480 with 1 Axes>"
      ]
     },
     "metadata": {},
     "output_type": "display_data"
    }
   ],
   "source": [
    "verifi = df.groupby('verification')['ratingvalue'].mean()\n",
    "verifi.plot(kind='bar')\n",
    "plt.xlabel('Verification Status')\n",
    "plt.ylabel('avg rating')\n",
    "plt.title('average of Verification Status')"
   ]
  },
  {
   "cell_type": "markdown",
   "metadata": {},
   "source": [
    "Verified users giving reviews have given higher ratings. \n",
    "The comments which can be trusted have a higher rating"
   ]
  },
  {
   "cell_type": "code",
   "execution_count": 36,
   "metadata": {},
   "outputs": [
    {
     "data": {
      "text/plain": [
       "<Axes: xlabel='ratingvalue', ylabel='counts'>"
      ]
     },
     "execution_count": 36,
     "metadata": {},
     "output_type": "execute_result"
    },
    {
     "data": {
      "image/png": "[encoded data removed]",
      "text/plain": [
       "<Figure size 640x480 with 1 Axes>"
      ]
     },
     "metadata": {},
     "output_type": "display_data"
    }
   ],
   "source": [
    "verification_rating = df.groupby(['ratingvalue', 'verification']).size().reset_index(name='counts')\n",
    "sns.barplot(x='ratingvalue', y='counts', hue='verification', data=verification_rating, palette='viridis')\n"
   ]
  },
  {
   "cell_type": "markdown",
   "metadata": {},
   "source": [
    "## correlation of other ratings for each ratingvalue"
   ]
  },
  {
   "cell_type": "code",
   "execution_count": 37,
   "metadata": {},
   "outputs": [
    {
     "data": {
      "text/html": [
       "<div>\n",
       "<style scoped>\n",
       "    .dataframe tbody tr th:only-of-type {\n",
       "        vertical-align: middle;\n",
       "    }\n",
       "\n",
       "    .dataframe tbody tr th {\n",
       "        vertical-align: top;\n",
       "    }\n",
       "\n",
       "    .dataframe thead th {\n",
       "        text-align: right;\n",
       "    }\n",
       "</style>\n",
       "<table border=\"1\" class=\"dataframe\">\n",
       "  <thead>\n",
       "    <tr style=\"text-align: right;\">\n",
       "      <th></th>\n",
       "      <th>seat_comfort</th>\n",
       "      <th>cabin_staff_service</th>\n",
       "      <th>food_and_beverages</th>\n",
       "      <th>inflight_entertainment</th>\n",
       "      <th>ground_service</th>\n",
       "      <th>value_for_money</th>\n",
       "      <th>ratingvalue</th>\n",
       "    </tr>\n",
       "  </thead>\n",
       "  <tbody>\n",
       "    <tr>\n",
       "      <th>seat_comfort</th>\n",
       "      <td>1.000000</td>\n",
       "      <td>0.723095</td>\n",
       "      <td>0.638871</td>\n",
       "      <td>0.438961</td>\n",
       "      <td>0.648749</td>\n",
       "      <td>0.692730</td>\n",
       "      <td>0.718979</td>\n",
       "    </tr>\n",
       "    <tr>\n",
       "      <th>cabin_staff_service</th>\n",
       "      <td>0.723095</td>\n",
       "      <td>1.000000</td>\n",
       "      <td>0.726837</td>\n",
       "      <td>0.385692</td>\n",
       "      <td>0.651436</td>\n",
       "      <td>0.681187</td>\n",
       "      <td>0.715165</td>\n",
       "    </tr>\n",
       "    <tr>\n",
       "      <th>food_and_beverages</th>\n",
       "      <td>0.638871</td>\n",
       "      <td>0.726837</td>\n",
       "      <td>1.000000</td>\n",
       "      <td>0.525528</td>\n",
       "      <td>0.598098</td>\n",
       "      <td>0.678158</td>\n",
       "      <td>0.709027</td>\n",
       "    </tr>\n",
       "    <tr>\n",
       "      <th>inflight_entertainment</th>\n",
       "      <td>0.438961</td>\n",
       "      <td>0.385692</td>\n",
       "      <td>0.525528</td>\n",
       "      <td>1.000000</td>\n",
       "      <td>0.374965</td>\n",
       "      <td>0.380063</td>\n",
       "      <td>0.361567</td>\n",
       "    </tr>\n",
       "    <tr>\n",
       "      <th>ground_service</th>\n",
       "      <td>0.648749</td>\n",
       "      <td>0.651436</td>\n",
       "      <td>0.598098</td>\n",
       "      <td>0.374965</td>\n",
       "      <td>1.000000</td>\n",
       "      <td>0.718681</td>\n",
       "      <td>0.777211</td>\n",
       "    </tr>\n",
       "    <tr>\n",
       "      <th>value_for_money</th>\n",
       "      <td>0.692730</td>\n",
       "      <td>0.681187</td>\n",
       "      <td>0.678158</td>\n",
       "      <td>0.380063</td>\n",
       "      <td>0.718681</td>\n",
       "      <td>1.000000</td>\n",
       "      <td>0.882781</td>\n",
       "    </tr>\n",
       "    <tr>\n",
       "      <th>ratingvalue</th>\n",
       "      <td>0.718979</td>\n",
       "      <td>0.715165</td>\n",
       "      <td>0.709027</td>\n",
       "      <td>0.361567</td>\n",
       "      <td>0.777211</td>\n",
       "      <td>0.882781</td>\n",
       "      <td>1.000000</td>\n",
       "    </tr>\n",
       "  </tbody>\n",
       "</table>\n",
       "</div>"
      ],
      "text/plain": [
       "                        seat_comfort  cabin_staff_service  food_and_beverages  \\\n",
       "seat_comfort                1.000000             0.723095            0.638871   \n",
       "cabin_staff_service         0.723095             1.000000            0.726837   \n",
       "food_and_beverages          0.638871             0.726837            1.000000   \n",
       "inflight_entertainment      0.438961             0.385692            0.525528   \n",
       "ground_service              0.648749             0.651436            0.598098   \n",
       "value_for_money             0.692730             0.681187            0.678158   \n",
       "ratingvalue                 0.718979             0.715165            0.709027   \n",
       "\n",
       "                        inflight_entertainment  ground_service  \\\n",
       "seat_comfort                          0.438961        0.648749   \n",
       "cabin_staff_service                   0.385692        0.651436   \n",
       "food_and_beverages                    0.525528        0.598098   \n",
       "inflight_entertainment                1.000000        0.374965   \n",
       "ground_service                        0.374965        1.000000   \n",
       "value_for_money                       0.380063        0.718681   \n",
       "ratingvalue                           0.361567        0.777211   \n",
       "\n",
       "                        value_for_money  ratingvalue  \n",
       "seat_comfort                   0.692730     0.718979  \n",
       "cabin_staff_service            0.681187     0.715165  \n",
       "food_and_beverages             0.678158     0.709027  \n",
       "inflight_entertainment         0.380063     0.361567  \n",
       "ground_service                 0.718681     0.777211  \n",
       "value_for_money                1.000000     0.882781  \n",
       "ratingvalue                    0.882781     1.000000  "
      ]
     },
     "execution_count": 37,
     "metadata": {},
     "output_type": "execute_result"
    }
   ],
   "source": [
    "corr_ratings = df[ALL_ratings].corr()\n",
    "corr_ratings"
   ]
  },
  {
   "cell_type": "code",
   "execution_count": 38,
   "metadata": {},
   "outputs": [
    {
     "data": {
      "image/png": "[encoded data removed]",
      "text/plain": [
       "<Figure size 640x480 with 2 Axes>"
      ]
     },
     "metadata": {},
     "output_type": "display_data"
    }
   ],
   "source": [
    "sns.heatmap(corr_ratings, annot=True,cmap='viridis',fmt='0.2f')\n",
    "plt.title('Relationship of all the ratings with each other');"
   ]
  },
  {
   "cell_type": "markdown",
   "metadata": {},
   "source": [
    "## frequency of recomended"
   ]
  },
  {
   "cell_type": "code",
   "execution_count": 39,
   "metadata": {},
   "outputs": [
    {
     "data": {
      "text/plain": [
       "<Axes: xlabel='recommended'>"
      ]
     },
     "execution_count": 39,
     "metadata": {},
     "output_type": "execute_result"
    },
    {
     "data": {
      "image/png": "[encoded data removed]",
      "text/plain": [
       "<Figure size 640x480 with 1 Axes>"
      ]
     },
     "metadata": {},
     "output_type": "display_data"
    }
   ],
   "source": [
    "df['recommended'].value_counts().plot(kind='bar')"
   ]
  },
  {
   "cell_type": "markdown",
   "metadata": {},
   "source": [
    "Many users don't recommend. Lets see how many of them are verified"
   ]
  },
  {
   "cell_type": "code",
   "execution_count": 40,
   "metadata": {},
   "outputs": [
    {
     "data": {
      "image/png": "[encoded data removed]",
      "text/plain": [
       "<Figure size 640x480 with 1 Axes>"
      ]
     },
     "metadata": {},
     "output_type": "display_data"
    }
   ],
   "source": [
    "grouped_verif_reco = df.groupby(['recommended','verification']).size().unstack(fill_value=0).plot(kind='bar', stacked=True)"
   ]
  },
  {
   "cell_type": "markdown",
   "metadata": {},
   "source": [
    "Verified users who dont recommend BA are more than Verified users who dont recommend BA "
   ]
  },
  {
   "cell_type": "markdown",
   "metadata": {},
   "source": [
    "## recomended and ratingvalue"
   ]
  },
  {
   "cell_type": "code",
   "execution_count": 41,
   "metadata": {},
   "outputs": [
    {
     "data": {
      "image/png": "[encoded data removed]",
      "text/plain": [
       "<Figure size 640x480 with 1 Axes>"
      ]
     },
     "metadata": {},
     "output_type": "display_data"
    }
   ],
   "source": [
    "grouped_recom_rating =df.groupby(['recommended','ratingvalue']).size().unstack(fill_value=0).plot(kind='bar', stacked=False)"
   ]
  },
  {
   "cell_type": "markdown",
   "metadata": {},
   "source": [
    "## route and ground_service"
   ]
  },
  {
   "cell_type": "code",
   "execution_count": 42,
   "metadata": {},
   "outputs": [
    {
     "data": {
      "text/plain": [
       "648"
      ]
     },
     "execution_count": 42,
     "metadata": {},
     "output_type": "execute_result"
    }
   ],
   "source": [
    "len(df['route'].unique())"
   ]
  },
  {
   "cell_type": "markdown",
   "metadata": {},
   "source": [
    "#### Top routes with higher reveiws for ground services"
   ]
  },
  {
   "cell_type": "code",
   "execution_count": 43,
   "metadata": {},
   "outputs": [],
   "source": [
    "route_gnd = df.groupby('route')['ground_service'].mean().reset_index()"
   ]
  },
  {
   "cell_type": "code",
   "execution_count": 44,
   "metadata": {},
   "outputs": [],
   "source": [
    "sorted_route_gnd = route_gnd.sort_values(by='ground_service',ascending=False)"
   ]
  },
  {
   "cell_type": "code",
   "execution_count": 45,
   "metadata": {},
   "outputs": [
    {
     "data": {
      "text/html": [
       "<div>\n",
       "<style scoped>\n",
       "    .dataframe tbody tr th:only-of-type {\n",
       "        vertical-align: middle;\n",
       "    }\n",
       "\n",
       "    .dataframe tbody tr th {\n",
       "        vertical-align: top;\n",
       "    }\n",
       "\n",
       "    .dataframe thead th {\n",
       "        text-align: right;\n",
       "    }\n",
       "</style>\n",
       "<table border=\"1\" class=\"dataframe\">\n",
       "  <thead>\n",
       "    <tr style=\"text-align: right;\">\n",
       "      <th></th>\n",
       "      <th>route</th>\n",
       "      <th>ground_service</th>\n",
       "    </tr>\n",
       "  </thead>\n",
       "  <tbody>\n",
       "    <tr>\n",
       "      <th>567</th>\n",
       "      <td>Rome to Los Angeles via London</td>\n",
       "      <td>0.0</td>\n",
       "    </tr>\n",
       "    <tr>\n",
       "      <th>256</th>\n",
       "      <td>London Gatwick to Jersey</td>\n",
       "      <td>0.0</td>\n",
       "    </tr>\n",
       "    <tr>\n",
       "      <th>556</th>\n",
       "      <td>Portland to Tel Aviv via Heathrow</td>\n",
       "      <td>0.0</td>\n",
       "    </tr>\n",
       "    <tr>\n",
       "      <th>586</th>\n",
       "      <td>Seattle to Heathrow</td>\n",
       "      <td>0.0</td>\n",
       "    </tr>\n",
       "    <tr>\n",
       "      <th>387</th>\n",
       "      <td>London to Maldives</td>\n",
       "      <td>0.0</td>\n",
       "    </tr>\n",
       "    <tr>\n",
       "      <th>39</th>\n",
       "      <td>Bordeaux to Gatwick</td>\n",
       "      <td>0.0</td>\n",
       "    </tr>\n",
       "    <tr>\n",
       "      <th>525</th>\n",
       "      <td>Newark to London</td>\n",
       "      <td>0.0</td>\n",
       "    </tr>\n",
       "    <tr>\n",
       "      <th>223</th>\n",
       "      <td>Johannesburg to Milan via London</td>\n",
       "      <td>0.0</td>\n",
       "    </tr>\n",
       "    <tr>\n",
       "      <th>251</th>\n",
       "      <td>London Gatwick to Alicante</td>\n",
       "      <td>0.0</td>\n",
       "    </tr>\n",
       "    <tr>\n",
       "      <th>82</th>\n",
       "      <td>Columbus to Nairobi via Chicago / London</td>\n",
       "      <td>0.0</td>\n",
       "    </tr>\n",
       "  </tbody>\n",
       "</table>\n",
       "</div>"
      ],
      "text/plain": [
       "                                        route  ground_service\n",
       "567            Rome to Los Angeles via London             0.0\n",
       "256                  London Gatwick to Jersey             0.0\n",
       "556         Portland to Tel Aviv via Heathrow             0.0\n",
       "586                       Seattle to Heathrow             0.0\n",
       "387                        London to Maldives             0.0\n",
       "39                        Bordeaux to Gatwick             0.0\n",
       "525                          Newark to London             0.0\n",
       "223          Johannesburg to Milan via London             0.0\n",
       "251                London Gatwick to Alicante             0.0\n",
       "82   Columbus to Nairobi via Chicago / London             0.0"
      ]
     },
     "execution_count": 45,
     "metadata": {},
     "output_type": "execute_result"
    }
   ],
   "source": [
    "top = sorted_route_gnd.tail(10)\n",
    "top"
   ]
  },
  {
   "cell_type": "markdown",
   "metadata": {},
   "source": [
    "Lowest rated ground services"
   ]
  },
  {
   "cell_type": "markdown",
   "metadata": {},
   "source": [
    "## Summary of all reviews"
   ]
  },
  {
   "cell_type": "code",
   "execution_count": 46,
   "metadata": {},
   "outputs": [
    {
     "name": "stdout",
     "output_type": "stream",
     "text": [
      "Requirement already satisfied: transformers in c:\\users\\anush\\appdata\\local\\programs\\python\\python312\\lib\\site-packages (4.41.2)\n",
      "Requirement already satisfied: filelock in c:\\users\\anush\\appdata\\local\\programs\\python\\python312\\lib\\site-packages (from transformers) (3.14.0)\n",
      "Requirement already satisfied: huggingface-hub<1.0,>=0.23.0 in c:\\users\\anush\\appdata\\local\\programs\\python\\python312\\lib\\site-packages (from transformers) (0.23.2)\n",
      "Requirement already satisfied: numpy>=1.17 in c:\\users\\anush\\appdata\\local\\programs\\python\\python312\\lib\\site-packages (from transformers) (1.26.4)\n",
      "Requirement already satisfied: packaging>=20.0 in c:\\users\\anush\\appdata\\roaming\\python\\python312\\site-packages (from transformers) (23.2)\n",
      "Requirement already satisfied: pyyaml>=5.1 in c:\\users\\anush\\appdata\\local\\programs\\python\\python312\\lib\\site-packages (from transformers) (6.0.1)\n",
      "Requirement already satisfied: regex!=2019.12.17 in c:\\users\\anush\\appdata\\local\\programs\\python\\python312\\lib\\site-packages (from transformers) (2024.5.15)\n",
      "Requirement already satisfied: requests in c:\\users\\anush\\appdata\\local\\programs\\python\\python312\\lib\\site-packages (from transformers) (2.32.3)\n",
      "Requirement already satisfied: tokenizers<0.20,>=0.19 in c:\\users\\anush\\appdata\\local\\programs\\python\\python312\\lib\\site-packages (from transformers) (0.19.1)\n",
      "Requirement already satisfied: safetensors>=0.4.1 in c:\\users\\anush\\appdata\\local\\programs\\python\\python312\\lib\\site-packages (from transformers) (0.4.3)\n",
      "Requirement already satisfied: tqdm>=4.27 in c:\\users\\anush\\appdata\\local\\programs\\python\\python312\\lib\\site-packages (from transformers) (4.66.4)\n",
      "Requirement already satisfied: fsspec>=2023.5.0 in c:\\users\\anush\\appdata\\local\\programs\\python\\python312\\lib\\site-packages (from huggingface-hub<1.0,>=0.23.0->transformers) (2024.3.1)\n",
      "Requirement already satisfied: typing-extensions>=3.7.4.3 in c:\\users\\anush\\appdata\\local\\programs\\python\\python312\\lib\\site-packages (from huggingface-hub<1.0,>=0.23.0->transformers) (4.11.0)\n",
      "Requirement already satisfied: colorama in c:\\users\\anush\\appdata\\roaming\\python\\python312\\site-packages (from tqdm>=4.27->transformers) (0.4.6)\n",
      "Requirement already satisfied: charset-normalizer<4,>=2 in c:\\users\\anush\\appdata\\local\\programs\\python\\python312\\lib\\site-packages (from requests->transformers) (3.3.2)\n",
      "Requirement already satisfied: idna<4,>=2.5 in c:\\users\\anush\\appdata\\local\\programs\\python\\python312\\lib\\site-packages (from requests->transformers) (3.7)\n",
      "Requirement already satisfied: urllib3<3,>=1.21.1 in c:\\users\\anush\\appdata\\local\\programs\\python\\python312\\lib\\site-packages (from requests->transformers) (2.2.1)\n",
      "Requirement already satisfied: certifi>=2017.4.17 in c:\\users\\anush\\appdata\\local\\programs\\python\\python312\\lib\\site-packages (from requests->transformers) (2024.2.2)\n"
     ]
    },
    {
     "name": "stderr",
     "output_type": "stream",
     "text": [
      "\n",
      "[notice] A new release of pip is available: 24.0 -> 24.1\n",
      "[notice] To update, run: python.exe -m pip install --upgrade pip\n"
     ]
    }
   ],
   "source": [
    "! pip install transformers\n"
   ]
  },
  {
   "cell_type": "code",
   "execution_count": 47,
   "metadata": {},
   "outputs": [],
   "source": [
    "from transformers import pipeline\n",
    "import torch\n",
    "from transformers import BartForConditionalGeneration, BartTokenizer\n"
   ]
  },
  {
   "cell_type": "code",
   "execution_count": 48,
   "metadata": {},
   "outputs": [],
   "source": [
    "text = ''.join(df['review_content'].apply(str))"
   ]
  },
  {
   "cell_type": "code",
   "execution_count": 49,
   "metadata": {},
   "outputs": [],
   "source": [
    "file_path = 'full_reviews.txt'"
   ]
  },
  {
   "cell_type": "code",
   "execution_count": 50,
   "metadata": {},
   "outputs": [],
   "source": [
    "with open(file_path, 'w', encoding='utf-8') as f:\n",
    "    f.write(text)"
   ]
  },
  {
   "cell_type": "code",
   "execution_count": 51,
   "metadata": {},
   "outputs": [],
   "source": [
    "model_name = 'facebook/bart-large-cnn'\n",
    "model = BartForConditionalGeneration.from_pretrained(model_name)\n",
    "tokenizer = BartTokenizer.from_pretrained(model_name)"
   ]
  },
  {
   "cell_type": "code",
   "execution_count": 52,
   "metadata": {},
   "outputs": [],
   "source": [
    "def read_text_file(file_path):\n",
    "    with open(file_path, 'r', encoding='utf-8') as file:\n",
    "        text = file.read()\n",
    "    return text"
   ]
  },
  {
   "cell_type": "code",
   "execution_count": 53,
   "metadata": {},
   "outputs": [],
   "source": [
    "input_text = read_text_file('full_reviews.txt')"
   ]
  },
  {
   "cell_type": "code",
   "execution_count": 54,
   "metadata": {},
   "outputs": [],
   "source": [
    "inputs = tokenizer([input_text], max_length=1024, return_tensors='pt', truncation=True)\n"
   ]
  },
  {
   "cell_type": "code",
   "execution_count": 56,
   "metadata": {},
   "outputs": [],
   "source": [
    "summary_ids = model.generate(inputs['input_ids'], num_beams=4, min_length=500, max_length=3000, early_stopping=True)"
   ]
  },
  {
   "cell_type": "code",
   "execution_count": 57,
   "metadata": {},
   "outputs": [
    {
     "name": "stdout",
     "output_type": "stream",
     "text": [
      "Generated Summary: The new Club Suite offers a fair amount of privacy, especially with the screen door closed, and includes direct aisle access. When fully reclined, the seat converts into a fairly spacious bed, although I found the surface on the side a bit hard and uncomfortable to sleep on. The catering on board was fairly good and tasty - the appetizers and the main course were generally well cooked, although the cabin crew were very slow with the meal service. Upon arrival at Heathrow, passengers had to wait over 90 minutes for checked baggage to arrive. Only negative was the food on the SFO/LHR leg. The advertised filet steak was more akin to stewing steak and was inedible. Sadly this is not the only occasion I have food on US/UK flights to be sub standard. Otherwise happy to recommend BA. We have just returned from Iceland and our experience was one of the worst we have ever had with BA. Again our flight was just cancelled due to operational reasons but what made matters worse on this occasion was the flight was quite early at 7:45am. We went to bed at around 11pm (night before), checked the flight and it showed as being on time with again no issues being reported so we went to sleep fairly rest assured the the flight would be fine. We woke up at 5:30am and then discovered our flight had been cancelled without any warning! We were then left with virtually no other return flight options for that day. It soon got worse as the earliest flight option then being offered by BA was 3 days later! We opted to choose Tuesday with BA as we were left with no other option! If we hadn't acted quickly the Tuesday availability was sure to sell out leaving us with a return option of Wednesday onwards having experienced the same problem with BA in Zurich back in December. We were lucky on that occasion as BA offered several flights back on the same day in Zurich but this wasn't the case with Iceland. Our hotel in Iceland was very limited and then left in a predicament as limited hotel availability then left us in a very short notice. Our car was fully booked and our hotel had to be returned to airport and our car was returned to the airport. This was not ideal as our journey into Oslo was 8 hours but it went via Oslo and a total of 8 hours. Assessing our options we came across another airline and after searching for any options we decided to get us back to the UK sooner with another airline. After a good half hour of searching we were in a good position.\n"
     ]
    }
   ],
   "source": [
    "summary = tokenizer.decode(summary_ids[0], skip_special_tokens=True)\n",
    "print(\"Generated Summary:\", summary)\n",
    "file = 'summaryOfReviews.txt'\n",
    "with open(file,'w', encoding ='utf-8') as f:\n",
    "    f.write(summary)"
   ]
  },
  {
   "cell_type": "code",
   "execution_count": 59,
   "metadata": {},
   "outputs": [
    {
     "name": "stderr",
     "output_type": "stream",
     "text": [
      "No model was supplied, defaulted to distilbert/distilbert-base-uncased-finetuned-sst-2-english and revision af0f99b (https://huggingface.co/distilbert/distilbert-base-uncased-finetuned-sst-2-english).\n",
      "Using a pipeline without specifying a model name and revision in production is not recommended.\n",
      "c:\\Users\\anush\\AppData\\Local\\Programs\\Python\\Python312\\Lib\\site-packages\\huggingface_hub\\file_download.py:1132: FutureWarning: `resume_download` is deprecated and will be removed in version 1.0.0. Downloads always resume when possible. If you want to force a new download, use `force_download=True`.\n",
      "  warnings.warn(\n"
     ]
    },
    {
     "data": {
      "application/vnd.jupyter.widget-view+json": {
       "model_id": "d67a9d593c3f4d87970445fc3fb5bace",
       "version_major": 2,
       "version_minor": 0
      },
      "text/plain": [
       "config.json:   0%|          | 0.00/629 [00:00<?, ?B/s]"
      ]
     },
     "metadata": {},
     "output_type": "display_data"
    },
    {
     "name": "stderr",
     "output_type": "stream",
     "text": [
      "c:\\Users\\anush\\AppData\\Local\\Programs\\Python\\Python312\\Lib\\site-packages\\huggingface_hub\\file_download.py:157: UserWarning: `huggingface_hub` cache-system uses symlinks by default to efficiently store duplicated files but your machine does not support them in C:\\Users\\anush\\.cache\\huggingface\\hub\\models--distilbert--distilbert-base-uncased-finetuned-sst-2-english. Caching files will still work but in a degraded version that might require more space on your disk. This warning can be disabled by setting the `HF_HUB_DISABLE_SYMLINKS_WARNING` environment variable. For more details, see https://huggingface.co/docs/huggingface_hub/how-to-cache#limitations.\n",
      "To support symlinks on Windows, you either need to activate Developer Mode or to run Python as an administrator. In order to see activate developer mode, see this article: https://docs.microsoft.com/en-us/windows/apps/get-started/enable-your-device-for-development\n",
      "  warnings.warn(message)\n"
     ]
    },
    {
     "data": {
      "application/vnd.jupyter.widget-view+json": {
       "model_id": "b25f71ab3f984ab4af1c1674e696930c",
       "version_major": 2,
       "version_minor": 0
      },
      "text/plain": [
       "model.safetensors:   0%|          | 0.00/268M [00:00<?, ?B/s]"
      ]
     },
     "metadata": {},
     "output_type": "display_data"
    },
    {
     "data": {
      "application/vnd.jupyter.widget-view+json": {
       "model_id": "df08f110c9594cd79b19d72c86dc7981",
       "version_major": 2,
       "version_minor": 0
      },
      "text/plain": [
       "tokenizer_config.json:   0%|          | 0.00/48.0 [00:00<?, ?B/s]"
      ]
     },
     "metadata": {},
     "output_type": "display_data"
    },
    {
     "data": {
      "application/vnd.jupyter.widget-view+json": {
       "model_id": "47149336bba84d2da110b7b45f5a92e3",
       "version_major": 2,
       "version_minor": 0
      },
      "text/plain": [
       "vocab.txt:   0%|          | 0.00/232k [00:00<?, ?B/s]"
      ]
     },
     "metadata": {},
     "output_type": "display_data"
    },
    {
     "name": "stdout",
     "output_type": "stream",
     "text": [
      "[{'label': 'NEGATIVE', 'score': 0.9998095631599426}]\n"
     ]
    }
   ],
   "source": [
    "from transformers import pipeline\n"
   ]
  },
  {
   "cell_type": "code",
   "execution_count": 62,
   "metadata": {},
   "outputs": [
    {
     "name": "stderr",
     "output_type": "stream",
     "text": [
      "No model was supplied, defaulted to distilbert/distilbert-base-uncased-finetuned-sst-2-english and revision af0f99b (https://huggingface.co/distilbert/distilbert-base-uncased-finetuned-sst-2-english).\n",
      "Using a pipeline without specifying a model name and revision in production is not recommended.\n"
     ]
    }
   ],
   "source": [
    "classifier = pipeline(\"sentiment-analysis\")"
   ]
  },
  {
   "cell_type": "code",
   "execution_count": 63,
   "metadata": {},
   "outputs": [],
   "source": [
    "result = df['review_title'].apply(lambda x: classifier(x)[0]) #since list f dict, i want [0]\n",
    "df['sentiment_label'] = result.apply(lambda x: x['label'])\n",
    "df['Label_Score'] = result.apply(lambda x: x['score'])\n",
    "# print(classifier(\"Urgh that's bad, i guess\")[0])"
   ]
  },
  {
   "cell_type": "code",
   "execution_count": 64,
   "metadata": {},
   "outputs": [
    {
     "data": {
      "text/html": [
       "<div>\n",
       "<style scoped>\n",
       "    .dataframe tbody tr th:only-of-type {\n",
       "        vertical-align: middle;\n",
       "    }\n",
       "\n",
       "    .dataframe tbody tr th {\n",
       "        vertical-align: top;\n",
       "    }\n",
       "\n",
       "    .dataframe thead th {\n",
       "        text-align: right;\n",
       "    }\n",
       "</style>\n",
       "<table border=\"1\" class=\"dataframe\">\n",
       "  <thead>\n",
       "    <tr style=\"text-align: right;\">\n",
       "      <th></th>\n",
       "      <th>date</th>\n",
       "      <th>name</th>\n",
       "      <th>place</th>\n",
       "      <th>aircraft</th>\n",
       "      <th>type_of_traveller</th>\n",
       "      <th>route</th>\n",
       "      <th>date_flown</th>\n",
       "      <th>seat_comfort</th>\n",
       "      <th>cabin_staff_service</th>\n",
       "      <th>food_and_beverages</th>\n",
       "      <th>inflight_entertainment</th>\n",
       "      <th>ground_service</th>\n",
       "      <th>value_for_money</th>\n",
       "      <th>recommended</th>\n",
       "      <th>ratingvalue</th>\n",
       "      <th>review_title</th>\n",
       "      <th>verification</th>\n",
       "      <th>review_content</th>\n",
       "      <th>sentiment_label</th>\n",
       "      <th>Label_Score</th>\n",
       "    </tr>\n",
       "  </thead>\n",
       "  <tbody>\n",
       "    <tr>\n",
       "      <th>0</th>\n",
       "      <td>2024-06-23</td>\n",
       "      <td>J Fang</td>\n",
       "      <td>Canada</td>\n",
       "      <td>A350-1000</td>\n",
       "      <td>Solo Leisure</td>\n",
       "      <td>London Heathrow to Vancouver</td>\n",
       "      <td>2024-06-01</td>\n",
       "      <td>2</td>\n",
       "      <td>2</td>\n",
       "      <td>1</td>\n",
       "      <td>2</td>\n",
       "      <td>2</td>\n",
       "      <td>1</td>\n",
       "      <td>0</td>\n",
       "      <td>3</td>\n",
       "      <td>cannot recommend BA</td>\n",
       "      <td>1</td>\n",
       "      <td>While BA may have made some positive improveme...</td>\n",
       "      <td>NEGATIVE</td>\n",
       "      <td>0.957653</td>\n",
       "    </tr>\n",
       "    <tr>\n",
       "      <th>1</th>\n",
       "      <td>2024-06-23</td>\n",
       "      <td>J Fang</td>\n",
       "      <td>Canada</td>\n",
       "      <td>A350-1000</td>\n",
       "      <td>Solo Leisure</td>\n",
       "      <td>Vancouver to London Heathrow</td>\n",
       "      <td>2024-06-01</td>\n",
       "      <td>3</td>\n",
       "      <td>3</td>\n",
       "      <td>3</td>\n",
       "      <td>3</td>\n",
       "      <td>1</td>\n",
       "      <td>2</td>\n",
       "      <td>0</td>\n",
       "      <td>5</td>\n",
       "      <td>“a very poor last impression of BA”</td>\n",
       "      <td>1</td>\n",
       "      <td>British Airways new Club Suite is a marked imp...</td>\n",
       "      <td>NEGATIVE</td>\n",
       "      <td>0.999801</td>\n",
       "    </tr>\n",
       "    <tr>\n",
       "      <th>2</th>\n",
       "      <td>2024-06-18</td>\n",
       "      <td>Caleb Lowe</td>\n",
       "      <td>United Kingdom</td>\n",
       "      <td>A320/A380</td>\n",
       "      <td>Couple Leisure</td>\n",
       "      <td>Belfast to San Francisco via London</td>\n",
       "      <td>2024-04-01</td>\n",
       "      <td>5</td>\n",
       "      <td>5</td>\n",
       "      <td>3</td>\n",
       "      <td>3</td>\n",
       "      <td>5</td>\n",
       "      <td>4</td>\n",
       "      <td>1</td>\n",
       "      <td>9</td>\n",
       "      <td>happy to recommend BA</td>\n",
       "      <td>1</td>\n",
       "      <td>Four very pleasant, on time flights with frien...</td>\n",
       "      <td>POSITIVE</td>\n",
       "      <td>0.999871</td>\n",
       "    </tr>\n",
       "    <tr>\n",
       "      <th>3</th>\n",
       "      <td>2024-06-18</td>\n",
       "      <td>N Thomas</td>\n",
       "      <td>United Kingdom</td>\n",
       "      <td>Missing</td>\n",
       "      <td>Couple Leisure</td>\n",
       "      <td>London Heathrow to Keflavik</td>\n",
       "      <td>2024-06-01</td>\n",
       "      <td>2</td>\n",
       "      <td>3</td>\n",
       "      <td>1</td>\n",
       "      <td>0</td>\n",
       "      <td>3</td>\n",
       "      <td>2</td>\n",
       "      <td>0</td>\n",
       "      <td>2</td>\n",
       "      <td>cancelled our return flight</td>\n",
       "      <td>0</td>\n",
       "      <td>We travel extensively over 25 years and tend t...</td>\n",
       "      <td>NEGATIVE</td>\n",
       "      <td>0.999540</td>\n",
       "    </tr>\n",
       "    <tr>\n",
       "      <th>4</th>\n",
       "      <td>2024-06-17</td>\n",
       "      <td>N Carter</td>\n",
       "      <td>United Kingdom</td>\n",
       "      <td>Boeing 777</td>\n",
       "      <td>Solo Leisure</td>\n",
       "      <td>New York JFK to London Heathrow</td>\n",
       "      <td>2024-06-01</td>\n",
       "      <td>5</td>\n",
       "      <td>5</td>\n",
       "      <td>4</td>\n",
       "      <td>3</td>\n",
       "      <td>1</td>\n",
       "      <td>2</td>\n",
       "      <td>1</td>\n",
       "      <td>8</td>\n",
       "      <td>Very good experience all round</td>\n",
       "      <td>1</td>\n",
       "      <td>Flight delayed an hour due to bad weather arou...</td>\n",
       "      <td>POSITIVE</td>\n",
       "      <td>0.999875</td>\n",
       "    </tr>\n",
       "    <tr>\n",
       "      <th>...</th>\n",
       "      <td>...</td>\n",
       "      <td>...</td>\n",
       "      <td>...</td>\n",
       "      <td>...</td>\n",
       "      <td>...</td>\n",
       "      <td>...</td>\n",
       "      <td>...</td>\n",
       "      <td>...</td>\n",
       "      <td>...</td>\n",
       "      <td>...</td>\n",
       "      <td>...</td>\n",
       "      <td>...</td>\n",
       "      <td>...</td>\n",
       "      <td>...</td>\n",
       "      <td>...</td>\n",
       "      <td>...</td>\n",
       "      <td>...</td>\n",
       "      <td>...</td>\n",
       "      <td>...</td>\n",
       "      <td>...</td>\n",
       "    </tr>\n",
       "    <tr>\n",
       "      <th>995</th>\n",
       "      <td>2019-05-26</td>\n",
       "      <td>Michael Hunt</td>\n",
       "      <td>United Kingdom</td>\n",
       "      <td>Boeing 777-200</td>\n",
       "      <td>Couple Leisure</td>\n",
       "      <td>Lima to Gatwick</td>\n",
       "      <td>2019-05-01</td>\n",
       "      <td>2</td>\n",
       "      <td>4</td>\n",
       "      <td>4</td>\n",
       "      <td>1</td>\n",
       "      <td>4</td>\n",
       "      <td>3</td>\n",
       "      <td>0</td>\n",
       "      <td>5</td>\n",
       "      <td>seat was uncomfortable</td>\n",
       "      <td>1</td>\n",
       "      <td>Lima to Gatwick. Helpful and courteous cabin c...</td>\n",
       "      <td>NEGATIVE</td>\n",
       "      <td>0.998169</td>\n",
       "    </tr>\n",
       "    <tr>\n",
       "      <th>996</th>\n",
       "      <td>2019-05-23</td>\n",
       "      <td>Alison Wescott</td>\n",
       "      <td>United Kingdom</td>\n",
       "      <td>Missing</td>\n",
       "      <td>Solo Leisure</td>\n",
       "      <td>Inverness to Auckland via Singapore</td>\n",
       "      <td>2019-05-01</td>\n",
       "      <td>1</td>\n",
       "      <td>5</td>\n",
       "      <td>4</td>\n",
       "      <td>4</td>\n",
       "      <td>4</td>\n",
       "      <td>2</td>\n",
       "      <td>0</td>\n",
       "      <td>3</td>\n",
       "      <td>comfort was very bad</td>\n",
       "      <td>1</td>\n",
       "      <td>Inverness to Auckland via Singapore with Briti...</td>\n",
       "      <td>NEGATIVE</td>\n",
       "      <td>0.997648</td>\n",
       "    </tr>\n",
       "    <tr>\n",
       "      <th>997</th>\n",
       "      <td>2019-05-23</td>\n",
       "      <td>C Lewis</td>\n",
       "      <td>Australia</td>\n",
       "      <td>Missing</td>\n",
       "      <td>Solo Leisure</td>\n",
       "      <td>Heathrow to Singapore</td>\n",
       "      <td>2019-05-01</td>\n",
       "      <td>3</td>\n",
       "      <td>3</td>\n",
       "      <td>2</td>\n",
       "      <td>4</td>\n",
       "      <td>3</td>\n",
       "      <td>3</td>\n",
       "      <td>0</td>\n",
       "      <td>4</td>\n",
       "      <td>expected a better level of attention to detail</td>\n",
       "      <td>1</td>\n",
       "      <td>I was seated right next to the galley and lava...</td>\n",
       "      <td>NEGATIVE</td>\n",
       "      <td>0.994770</td>\n",
       "    </tr>\n",
       "    <tr>\n",
       "      <th>998</th>\n",
       "      <td>2019-05-23</td>\n",
       "      <td>Michael van Eimeren</td>\n",
       "      <td>United Kingdom</td>\n",
       "      <td>Missing</td>\n",
       "      <td>Business</td>\n",
       "      <td>Lyon to London</td>\n",
       "      <td>2019-05-01</td>\n",
       "      <td>4</td>\n",
       "      <td>3</td>\n",
       "      <td>2</td>\n",
       "      <td>0</td>\n",
       "      <td>1</td>\n",
       "      <td>3</td>\n",
       "      <td>0</td>\n",
       "      <td>3</td>\n",
       "      <td>an hour or so to drop off luggage</td>\n",
       "      <td>1</td>\n",
       "      <td>Flight was OK, minor delay didn't both me. Wha...</td>\n",
       "      <td>NEGATIVE</td>\n",
       "      <td>0.978887</td>\n",
       "    </tr>\n",
       "    <tr>\n",
       "      <th>999</th>\n",
       "      <td>2019-05-22</td>\n",
       "      <td>Ian Robinson</td>\n",
       "      <td>United Kingdom</td>\n",
       "      <td>Boeing 777-200</td>\n",
       "      <td>Couple Leisure</td>\n",
       "      <td>Gatwick to Barbados</td>\n",
       "      <td>2019-05-01</td>\n",
       "      <td>3</td>\n",
       "      <td>1</td>\n",
       "      <td>2</td>\n",
       "      <td>4</td>\n",
       "      <td>3</td>\n",
       "      <td>3</td>\n",
       "      <td>0</td>\n",
       "      <td>3</td>\n",
       "      <td>return flight extremely poor</td>\n",
       "      <td>1</td>\n",
       "      <td>Gatwick to Barbados return. I normally travel ...</td>\n",
       "      <td>NEGATIVE</td>\n",
       "      <td>0.999798</td>\n",
       "    </tr>\n",
       "  </tbody>\n",
       "</table>\n",
       "<p>1000 rows × 20 columns</p>\n",
       "</div>"
      ],
      "text/plain": [
       "          date                 name           place        aircraft  \\\n",
       "0   2024-06-23               J Fang          Canada       A350-1000   \n",
       "1   2024-06-23              J Fang           Canada       A350-1000   \n",
       "2   2024-06-18           Caleb Lowe  United Kingdom       A320/A380   \n",
       "3   2024-06-18             N Thomas  United Kingdom         Missing   \n",
       "4   2024-06-17             N Carter  United Kingdom      Boeing 777   \n",
       "..         ...                  ...             ...             ...   \n",
       "995 2019-05-26         Michael Hunt  United Kingdom  Boeing 777-200   \n",
       "996 2019-05-23       Alison Wescott  United Kingdom         Missing   \n",
       "997 2019-05-23              C Lewis       Australia         Missing   \n",
       "998 2019-05-23  Michael van Eimeren  United Kingdom         Missing   \n",
       "999 2019-05-22         Ian Robinson  United Kingdom  Boeing 777-200   \n",
       "\n",
       "    type_of_traveller                                route date_flown  \\\n",
       "0        Solo Leisure         London Heathrow to Vancouver 2024-06-01   \n",
       "1        Solo Leisure         Vancouver to London Heathrow 2024-06-01   \n",
       "2      Couple Leisure  Belfast to San Francisco via London 2024-04-01   \n",
       "3      Couple Leisure          London Heathrow to Keflavik 2024-06-01   \n",
       "4        Solo Leisure      New York JFK to London Heathrow 2024-06-01   \n",
       "..                ...                                  ...        ...   \n",
       "995    Couple Leisure                      Lima to Gatwick 2019-05-01   \n",
       "996      Solo Leisure  Inverness to Auckland via Singapore 2019-05-01   \n",
       "997      Solo Leisure                Heathrow to Singapore 2019-05-01   \n",
       "998          Business                       Lyon to London 2019-05-01   \n",
       "999    Couple Leisure                  Gatwick to Barbados 2019-05-01   \n",
       "\n",
       "     seat_comfort  cabin_staff_service  food_and_beverages  \\\n",
       "0               2                    2                   1   \n",
       "1               3                    3                   3   \n",
       "2               5                    5                   3   \n",
       "3               2                    3                   1   \n",
       "4               5                    5                   4   \n",
       "..            ...                  ...                 ...   \n",
       "995             2                    4                   4   \n",
       "996             1                    5                   4   \n",
       "997             3                    3                   2   \n",
       "998             4                    3                   2   \n",
       "999             3                    1                   2   \n",
       "\n",
       "     inflight_entertainment  ground_service  value_for_money  recommended  \\\n",
       "0                         2               2                1            0   \n",
       "1                         3               1                2            0   \n",
       "2                         3               5                4            1   \n",
       "3                         0               3                2            0   \n",
       "4                         3               1                2            1   \n",
       "..                      ...             ...              ...          ...   \n",
       "995                       1               4                3            0   \n",
       "996                       4               4                2            0   \n",
       "997                       4               3                3            0   \n",
       "998                       0               1                3            0   \n",
       "999                       4               3                3            0   \n",
       "\n",
       "     ratingvalue                                    review_title  \\\n",
       "0              3                             cannot recommend BA   \n",
       "1              5             “a very poor last impression of BA”   \n",
       "2              9                           happy to recommend BA   \n",
       "3              2                     cancelled our return flight   \n",
       "4              8                  Very good experience all round   \n",
       "..           ...                                             ...   \n",
       "995            5                          seat was uncomfortable   \n",
       "996            3                            comfort was very bad   \n",
       "997            4  expected a better level of attention to detail   \n",
       "998            3               an hour or so to drop off luggage   \n",
       "999            3                    return flight extremely poor   \n",
       "\n",
       "     verification                                     review_content  \\\n",
       "0               1  While BA may have made some positive improveme...   \n",
       "1               1  British Airways new Club Suite is a marked imp...   \n",
       "2               1  Four very pleasant, on time flights with frien...   \n",
       "3               0  We travel extensively over 25 years and tend t...   \n",
       "4               1  Flight delayed an hour due to bad weather arou...   \n",
       "..            ...                                                ...   \n",
       "995             1  Lima to Gatwick. Helpful and courteous cabin c...   \n",
       "996             1  Inverness to Auckland via Singapore with Briti...   \n",
       "997             1  I was seated right next to the galley and lava...   \n",
       "998             1  Flight was OK, minor delay didn't both me. Wha...   \n",
       "999             1  Gatwick to Barbados return. I normally travel ...   \n",
       "\n",
       "    sentiment_label  Label_Score  \n",
       "0          NEGATIVE     0.957653  \n",
       "1          NEGATIVE     0.999801  \n",
       "2          POSITIVE     0.999871  \n",
       "3          NEGATIVE     0.999540  \n",
       "4          POSITIVE     0.999875  \n",
       "..              ...          ...  \n",
       "995        NEGATIVE     0.998169  \n",
       "996        NEGATIVE     0.997648  \n",
       "997        NEGATIVE     0.994770  \n",
       "998        NEGATIVE     0.978887  \n",
       "999        NEGATIVE     0.999798  \n",
       "\n",
       "[1000 rows x 20 columns]"
      ]
     },
     "execution_count": 64,
     "metadata": {},
     "output_type": "execute_result"
    }
   ],
   "source": [
    "df"
   ]
  },
  {
   "cell_type": "code",
   "execution_count": 66,
   "metadata": {},
   "outputs": [
    {
     "data": {
      "text/plain": [
       "<Axes: xlabel='sentiment_label'>"
      ]
     },
     "execution_count": 66,
     "metadata": {},
     "output_type": "execute_result"
    },
    {
     "data": {
      "image/png": "[encoded data removed]",
      "text/plain": [
       "<Figure size 640x480 with 1 Axes>"
      ]
     },
     "metadata": {},
     "output_type": "display_data"
    }
   ],
   "source": [
    "sure_sentiments = df[df['Label_Score']>0.85]\n",
    "sure_sentiments['sentiment_label'].value_counts().plot(kind='bar')"
   ]
  },
  {
   "cell_type": "markdown",
   "metadata": {},
   "source": [
    "There are many negative reviews than Positive"
   ]
  },
  {
   "cell_type": "code",
   "execution_count": null,
   "metadata": {},
   "outputs": [],
   "source": []
  },
  {
   "cell_type": "code",
   "execution_count": null,
   "metadata": {},
   "outputs": [],
   "source": []
  }
 ],
 "metadata": {
  "kernelspec": {
   "display_name": "Python 3",
   "language": "python",
   "name": "python3"
  },
  "language_info": {
   "codemirror_mode": {
    "name": "ipython",
    "version": 3
   },
   "file_extension": ".py",
   "mimetype": "text/x-python",
   "name": "python",
   "nbconvert_exporter": "python",
   "pygments_lexer": "ipython3",
   "version": "3.12.3"
  }
 },
 "nbformat": 4,
 "nbformat_minor": 2
}
