{
 "cells": [
  {
   "cell_type": "code",
   "execution_count": 25,
   "metadata": {},
   "outputs": [],
   "source": [
    "import pandas as pd\n",
    "from bs4 import BeautifulSoup as bs \n",
    "import requests\n",
    "import re"
   ]
  },
  {
   "cell_type": "code",
   "execution_count": 26,
   "id": "1df104d7",
   "metadata": {},
   "outputs": [],
   "source": [
    "web = 'https://www.airlinequality.com/airline-reviews/british-airways'\n",
    "html = requests.get(web)"
   ]
  },
  {
   "cell_type": "code",
   "execution_count": 27,
   "id": "d4da3675",
   "metadata": {},
   "outputs": [],
   "source": [
    "soup = bs(html.content, 'html.parser')"
   ]
  },
  {
   "cell_type": "code",
   "execution_count": 28,
   "id": "e0e87e2e",
   "metadata": {},
   "outputs": [],
   "source": [
    "reviewbox = soup.find('article',{'itemprop':'review'})"
   ]
  },
  {
   "cell_type": "markdown",
   "id": "b782e9e7",
   "metadata": {},
   "source": [
    "- date \n",
    "- name\n",
    "- place\n",
    "- aircraft\n",
    "- type of traveller\n",
    "- seat type\n",
    "- route\n",
    "- date flown\n",
    "- seat comfort\n",
    "- cabin staff service\n",
    "- food and beverages\n",
    "- inflight entertainment\n",
    "- ground service\n",
    "- value for money\n",
    "- recocmmended\n",
    "- ratingvalue\n",
    "- oneline\n",
    "- para\n"
   ]
  },
  {
   "cell_type": "code",
   "execution_count": 29,
   "id": "da6e0590",
   "metadata": {},
   "outputs": [
    {
     "data": {
      "text/plain": [
       "['2024-06-23']"
      ]
     },
     "execution_count": 29,
     "metadata": {},
     "output_type": "execute_result"
    }
   ],
   "source": [
    "#date, name, place, aircraft, type of traveller, seat type, route, date flown, seat comfort, cabin staff service, food and beverages, inflight entertainment, ground service, value for money, recocmmended, ratingvalue, oneline, para\n",
    "date = [reviewbox.find('meta',{'itemprop':'datePublished'})['content']]\n",
    "date"
   ]
  },
  {
   "cell_type": "code",
   "execution_count": 30,
   "id": "224532cc",
   "metadata": {},
   "outputs": [
    {
     "data": {
      "text/plain": [
       "['Canada']"
      ]
     },
     "execution_count": 30,
     "metadata": {},
     "output_type": "execute_result"
    }
   ],
   "source": [
    "subline = soup.find('h3', {'class': 'text_sub_header userStatusWrapper'})\n",
    "name = [subline.find('span', {'itemprop': 'name'}).text]\n",
    "\n",
    "# Extract the place\n",
    "place = soup.find('h3').text.strip()\n",
    "match = re.search(r'\\((.*?)\\)', place)  #Learn regex properly\n",
    "place = [match.group(1)]\n",
    "place"
   ]
  },
  {
   "cell_type": "code",
   "execution_count": 31,
   "id": "6e1e2769",
   "metadata": {},
   "outputs": [
    {
     "data": {
      "text/plain": [
       "['2024-06-23', 'J Fang', 'Canada']"
      ]
     },
     "execution_count": 31,
     "metadata": {},
     "output_type": "execute_result"
    }
   ],
   "source": [
    "row = date + name + place\n",
    "row"
   ]
  },
  {
   "cell_type": "code",
   "execution_count": 35,
   "id": "e53cf0a2",
   "metadata": {},
   "outputs": [
    {
     "ename": "AttributeError",
     "evalue": "ResultSet object has no attribute 'text'. You're probably treating a list of elements like a single element. Did you call find_all() when you meant to call find()?",
     "output_type": "error",
     "traceback": [
      "\u001b[1;31m---------------------------------------------------------------------------\u001b[0m",
      "\u001b[1;31mAttributeError\u001b[0m                            Traceback (most recent call last)",
      "Cell \u001b[1;32mIn[35], line 2\u001b[0m\n\u001b[0;32m      1\u001b[0m full_table \u001b[38;5;241m=\u001b[39m  reviewbox\u001b[38;5;241m.\u001b[39mfind(\u001b[38;5;124m'\u001b[39m\u001b[38;5;124mtable\u001b[39m\u001b[38;5;124m'\u001b[39m)\n\u001b[1;32m----> 2\u001b[0m \u001b[43mfull_table\u001b[49m\u001b[38;5;241;43m.\u001b[39;49m\u001b[43mfind_all\u001b[49m\u001b[43m(\u001b[49m\u001b[38;5;124;43m'\u001b[39;49m\u001b[38;5;124;43mtr\u001b[39;49m\u001b[38;5;124;43m'\u001b[39;49m\u001b[43m)\u001b[49m\u001b[38;5;241;43m.\u001b[39;49m\u001b[43mtext\u001b[49m\n",
      "File \u001b[1;32mc:\\Users\\anush\\AppData\\Local\\Programs\\Python\\Python312\\Lib\\site-packages\\bs4\\element.py:2433\u001b[0m, in \u001b[0;36mResultSet.__getattr__\u001b[1;34m(self, key)\u001b[0m\n\u001b[0;32m   2431\u001b[0m \u001b[38;5;28;01mdef\u001b[39;00m \u001b[38;5;21m__getattr__\u001b[39m(\u001b[38;5;28mself\u001b[39m, key):\n\u001b[0;32m   2432\u001b[0m \u001b[38;5;250m    \u001b[39m\u001b[38;5;124;03m\"\"\"Raise a helpful exception to explain a common code fix.\"\"\"\u001b[39;00m\n\u001b[1;32m-> 2433\u001b[0m     \u001b[38;5;28;01mraise\u001b[39;00m \u001b[38;5;167;01mAttributeError\u001b[39;00m(\n\u001b[0;32m   2434\u001b[0m         \u001b[38;5;124m\"\u001b[39m\u001b[38;5;124mResultSet object has no attribute \u001b[39m\u001b[38;5;124m'\u001b[39m\u001b[38;5;132;01m%s\u001b[39;00m\u001b[38;5;124m'\u001b[39m\u001b[38;5;124m. You\u001b[39m\u001b[38;5;124m'\u001b[39m\u001b[38;5;124mre probably treating a list of elements like a single element. Did you call find_all() when you meant to call find()?\u001b[39m\u001b[38;5;124m\"\u001b[39m \u001b[38;5;241m%\u001b[39m key\n\u001b[0;32m   2435\u001b[0m     )\n",
      "\u001b[1;31mAttributeError\u001b[0m: ResultSet object has no attribute 'text'. You're probably treating a list of elements like a single element. Did you call find_all() when you meant to call find()?"
     ]
    }
   ],
   "source": [
    "# full_table =  reviewbox.find('table')\n",
    "# full_table_tr =full_table.find_all('tr')\n",
    "# tr = []\n",
    "# for i in full_table_tr:\n",
    "    "
   ]
  },
  {
   "cell_type": "code",
   "execution_count": 9,
   "id": "b456a0b0",
   "metadata": {},
   "outputs": [
    {
     "data": {
      "text/plain": [
       "21"
      ]
     },
     "execution_count": 9,
     "metadata": {},
     "output_type": "execute_result"
    }
   ],
   "source": [
    "table = reviewbox.find('table')\n",
    "td = table.find_all('td')\n",
    "for elem in range(1,10,2):\n",
    "    row.append(td[elem].text)\n",
    "\n",
    "for elem in range(11,len(td)-1,2):\n",
    "    stars = td[elem].find_all('span',{'class':'star fill'})[-1].text\n",
    "    row.append(stars)\n",
    "    # print(stars)\n",
    "    # row.append(stars.text)\n",
    "\n",
    "\n"
   ]
  },
  {
   "cell_type": "code",
   "execution_count": 212,
   "id": "240f31d3",
   "metadata": {},
   "outputs": [],
   "source": [
    "\n",
    "rev = reviewbox.find('div',{'itemprop':'reviewRating'})\n",
    "review = rev.find('span').text\n",
    "row.append(review)"
   ]
  },
  {
   "cell_type": "code",
   "execution_count": 213,
   "id": "13bc6f6b",
   "metadata": {},
   "outputs": [
    {
     "data": {
      "text/plain": [
       "'happy to recommend BA'"
      ]
     },
     "execution_count": 213,
     "metadata": {},
     "output_type": "execute_result"
    }
   ],
   "source": [
    "body = reviewbox.find('h2').text.replace('\"',\"\")\n",
    "body"
   ]
  },
  {
   "cell_type": "code",
   "execution_count": 214,
   "id": "f554d94a",
   "metadata": {},
   "outputs": [],
   "source": [
    "row.append(body)"
   ]
  },
  {
   "cell_type": "code",
   "execution_count": 215,
   "id": "5f18e2fa",
   "metadata": {},
   "outputs": [],
   "source": [
    "para = reviewbox.find('div',{'class':'text_content'}).text\n",
    "verify, paragraph = para.split(\"|\",1)"
   ]
  },
  {
   "cell_type": "code",
   "execution_count": 216,
   "id": "55fbfbc1",
   "metadata": {},
   "outputs": [],
   "source": [
    "row.append(verify)"
   ]
  },
  {
   "cell_type": "code",
   "execution_count": 217,
   "id": "a55c8b83",
   "metadata": {},
   "outputs": [],
   "source": [
    "row.append(paragraph)"
   ]
  },
  {
   "cell_type": "code",
   "execution_count": 36,
   "id": "b7124f6d",
   "metadata": {},
   "outputs": [],
   "source": [
    "def onerow(reviewbox):\n",
    "\n",
    "    # reviewbox = soup.find('article',{'itemprop':'review'})\n",
    "    date = [reviewbox.find('meta',{'itemprop':'datePublished'})['content']]\n",
    "    subline = reviewbox.find('h3', {'class': 'text_sub_header userStatusWrapper'})\n",
    "    name = [subline.find('span', {'itemprop': 'name'}).text]\n",
    "\n",
    "    # Extract the place\n",
    "    place = reviewbox.find('h3').text.strip()\n",
    "    match = re.search(r'\\((.*?)\\)', place)  #Learn regex properly\n",
    "    place = [match.group(1) if match else '']\n",
    "\n",
    "    row = date + name + place\n",
    "    parameters = {\n",
    "        'aircraft': '',\n",
    "        'type_of_traveller': '',\n",
    "        'seat_type': '',\n",
    "        'route': '',\n",
    "        'date_flown': '',\n",
    "        'seat_comfort': '0',\n",
    "        'cabin_staff_service': '0',\n",
    "        'food_and_beverages': '0',\n",
    "        'inflight_entertainment': '0',\n",
    "        'ground_service': '0',\n",
    "        'value_for_money': '0',\n",
    "        'recommended': '',\n",
    "        'ratingvalue': '0',\n",
    "        'review_title': '',\n",
    "        'verification': '',\n",
    "        'review_content': ''\n",
    "    }\n",
    "\n",
    "    table = reviewbox.find('table')\n",
    "    if table:\n",
    "        r = table.find_all('tr')\n",
    "        for row_elem in r:\n",
    "            header = row_elem.find('td', {'class': 'review-rating-header'})\n",
    "            value_td = row_elem.find('td', {'class': 'review-value'})\n",
    "            stars_td = row_elem.find('td', {'class': 'review-rating-stars'})\n",
    "\n",
    "            if header and value_td:\n",
    "                key = header['class'][1]\n",
    "                value = value_td.text.strip()\n",
    "                parameters[key] = value\n",
    "                \n",
    "            elif header and stars_td:\n",
    "                key = header['class'][1]\n",
    "                stars = stars_td.find_all('span', {'class': 'star fill'})\n",
    "                parameters[key] = str(len(stars))\n",
    "        \n",
    "\n",
    "    rev = reviewbox.find('div',{'itemprop':'reviewRating'})\n",
    "    review = rev.find('span').text.strip() if rev else ''\n",
    "    parameters['ratingvalue'] = review\n",
    "\n",
    "    \n",
    "    body = reviewbox.find('h2').text.replace('\"',\"\").strip()\n",
    "    parameters['review_title'] = body\n",
    "\n",
    "    para = reviewbox.find('div',{'class':'text_content'}).text.strip()\n",
    "    verify, paragraph = para.split(\"|\",1) if \"|\" in para else ('', para)\n",
    "    parameters['verification'] = verify.strip()\n",
    "    parameters['review_content'] = paragraph.strip()\n",
    "\n",
    "    row.extend([\n",
    "        parameters['aircraft'],\n",
    "        parameters['type_of_traveller'],\n",
    "        parameters['seat_type'],\n",
    "        parameters['route'],\n",
    "        parameters['date_flown'],\n",
    "        parameters['seat_comfort'],\n",
    "        parameters['cabin_staff_service'],\n",
    "        parameters['food_and_beverages'],\n",
    "        parameters['inflight_entertainment'],\n",
    "        parameters['ground_service'],\n",
    "        parameters['value_for_money'],\n",
    "        parameters['recommended'],\n",
    "        parameters['ratingvalue'],\n",
    "        parameters['review_title'],\n",
    "        parameters['verification'],\n",
    "        parameters['review_content']\n",
    "    ])\n",
    "\n",
    "    return row\n",
    "        "
   ]
  },
  {
   "cell_type": "code",
   "execution_count": 61,
   "id": "0f05b65a",
   "metadata": {},
   "outputs": [
    {
     "name": "stdout",
     "output_type": "stream",
     "text": [
      "   ---> 100 total reviews\n",
      "   ---> 200 total reviews\n",
      "   ---> 300 total reviews\n",
      "   ---> 400 total reviews\n",
      "   ---> 500 total reviews\n",
      "   ---> 600 total reviews\n",
      "   ---> 700 total reviews\n",
      "   ---> 800 total reviews\n",
      "   ---> 900 total reviews\n",
      "   ---> 1000 total reviews\n"
     ]
    },
    {
     "data": {
      "text/plain": [
       "['2024-06-23', 'J Fang', 'Canada']"
      ]
     },
     "execution_count": 61,
     "metadata": {},
     "output_type": "execute_result"
    }
   ],
   "source": [
    "page_no = 10\n",
    "page_size = 100\n",
    "base_url = \"https://www.airlinequality.com/airline-reviews/british-airways\"\n",
    "def run(page_no, page_size, base_url):\n",
    "    rows=[]\n",
    "    for i in range(1,page_no+1):\n",
    "        url = f\"{base_url}/page/{i}/?sortby=post_date%3ADesc&pagesize={page_size}\"    \n",
    "        html = requests.get(url)\n",
    "        soup = bs(html.content, 'html.parser')\n",
    "        fullbox = soup.find_all('article',{'itemprop':'review'})\n",
    "        for reviewbox in fullbox:\n",
    "            rows.append(onerow(reviewbox))\n",
    "        print(f\"   ---> {len(rows)} total reviews\")\n",
    "    return row\n",
    "run(page_no, page_size, base_url)"
   ]
  },
  {
   "cell_type": "code",
   "execution_count": 38,
   "id": "816eb94a",
   "metadata": {},
   "outputs": [
    {
     "data": {
      "text/plain": [
       "<article class=\"comp comp_media-review-rated list-item media position-content review-894161\" itemprop=\"review\" itemscope=\"\" itemtype=\"http://schema.org/Review\">\n",
       "<meta content=\"2024-04-25\" itemprop=\"datePublished\"/>\n",
       "<div class=\"rating-10\" itemprop=\"reviewRating\" itemscope=\"\" itemtype=\"http://schema.org/Rating\">\n",
       "<span itemprop=\"ratingValue\">1</span>/<span itemprop=\"bestRating\">10</span>\n",
       "</div>\n",
       "<div class=\"body\" id=\"anchor894161\">\n",
       "<h2 class=\"text_header\">\"mock and insult your passengers\"</h2>\n",
       "<h3 class=\"text_sub_header userStatusWrapper\">\n",
       "<span itemprop=\"author\" itemscope=\"\" itemtype=\"http://schema.org/Person\">\n",
       "<a class=\"userStatus globetrotter\" href=\"/reviewer/reviewer-signup\"><span class=\"userStatusReviewCount\">18 reviews</span><svg class=\"userStatusIcon\" version=\"1.1\" viewbox=\"0 0 307.3 193.5\" xmlns=\"http://www.w3.org/2000/svg\" xmlns:xlink=\"http://www.w3.org/1999/xlink\">\n",
       "<path d=\"M157.9,95c-13.1,5.5-26.3,11.1-38.5,16c-21,8.4-42.4,16-65.1,18.7c-16,1.5-26.5-1-31.6-9.7C15.6,104.3,8.2,88.7,1.1,72.9\n",
       "                C-2.5,64.8,3.3,61.5,11,62c3.2,0.2,6.6,2.1,9.5,4c8.3,5.6,16.4,11.4,24.4,17.5c5,3.8,9.8,4.1,15.4,1.6c30.8-13.5,61.6-27,92.4-40.3\n",
       "                c30.4-13.2,60.7-26.4,91.3-39.1c16.9-7,34.3-8.1,51.3-0.1c3.8,1.8,7.2,4.7,10.5,7.4c4.9,4.1-2.8,12.5-21.8,22.7\n",
       "                c-20.9,10.7-46,22.5-67,33c0,0-31.8,67.3-46.9,99.2c-5.4,11.6-12.7,21.1-25.6,25c-4.4,1.3-5.9,0.5-5.1-4.2\n",
       "                c1.3-8.1,2.8-16.1,4.4-24.1C147.8,143.9,157.1,98.5,157.9,95z\"></path>\n",
       "<path d=\"M151.7,31.5c-14.3,6.2-30.4,13.2-43.7,18.8c0,0-29.9-17.6-43.4-25.8c-1.6-0.9-2.5-2.8-3.8-4.3c1.4-1,2.6-2.2,4.1-3.1\n",
       "                c9.9-5.7,20.4-5.7,31-2.8C113.6,19.3,138,27,151.7,31.5z\"></path>\n",
       "</svg></a>\n",
       "<span itemprop=\"name\">G Reyes</span></span> (United Kingdom) <time datetime=\"2024-04-25\" itemprop=\"datePublished\">25th April 2024</time></h3>\n",
       "<div class=\"tc_mobile\">\n",
       "<div class=\"text_content\" itemprop=\"reviewBody\">✅ <strong><a href=\"https://www.airlinequality.com/verified-reviews/\"><em>Trip Verified</em></a></strong> |  Very inconsiderate PA announcements were made by a purser who appearingly decided to exchange his career at BA for comedy club acting, although not at the right setting. First pre-landing PA: “My colleague and I had a very long week with British Airways, so we are dimming the lights as we don’t want you to see our faces. If you are afraid of the dark - just look at the passenger next to you”. Although clearly not the purser’s intent, it sounded like a mocking and very careless of people with aero / darkness phobias who may have a panic attack after such a joke. Very inconsiderate and damages BA’s brand as a safe, accessible and a trusted airline. Second PA after landing was: “if you’d like to make a complaint, go call EasyJet”. I felt genuinely insulted by this “joke”. BA charged an abusive fee. In the end, I literally had to beg the rude and dismissive ground staff in Madrid not to check my roller bag at gate because I recently had surgery and needed to hold onto it to walk. Instant noodles which I purchased onboard were barely edible. All cabin crew except from one disappeared at the galley where they were loudly chatting and laughing and looked at me as a nuisance even when I just wanted to pass through them to visit the lavatory. And then the chief purser effectively announces that if anyone is unhappy they can go fly someone else. Wake up, BA! You are already worse than EasyJet and Ryanair in terms of value for money!! I note that only ones who found the purser’s jokes funny were the other cabin crew who made a few vulgar laughs, while passengers remained dead silent. I can understand airlines scaling back services to cut costs. I will never understand how you can allow your staff to openly mock and insult your passengers. I am a BA Silver member and have been a loyal BA customer for years. A disgrace.</div>\n",
       "<div class=\"review-stats\">\n",
       "<table class=\"review-ratings\">\n",
       "<tr><td class=\"review-rating-header aircraft\">Aircraft</td><td class=\"review-value\">A320</td></tr>\n",
       "<tr><td class=\"review-rating-header type_of_traveller\">Type Of Traveller</td><td class=\"review-value\">Business</td></tr>\n",
       "<tr><td class=\"review-rating-header cabin_flown\">Seat Type</td><td class=\"review-value\">Economy Class</td></tr>\n",
       "<tr><td class=\"review-rating-header route\">Route</td><td class=\"review-value\">Madrid to London Heathrow</td></tr>\n",
       "<tr><td class=\"review-rating-header date_flown\">Date Flown</td><td class=\"review-value\">April 2024</td></tr>\n",
       "<tr>\n",
       "<td class=\"review-rating-header seat_comfort\">Seat Comfort</td>\n",
       "<td class=\"review-rating-stars stars\"><span class=\"star fill\">1</span><span class=\"star fill\">2</span><span class=\"star fill\">3</span><span class=\"star\">4</span><span class=\"star\">5</span></td>\n",
       "</tr>\n",
       "<tr>\n",
       "<td class=\"review-rating-header cabin_staff_service\">Cabin Staff Service</td>\n",
       "<td class=\"review-rating-stars stars\"><span class=\"star fill\">1</span><span class=\"star\">2</span><span class=\"star\">3</span><span class=\"star\">4</span><span class=\"star\">5</span></td>\n",
       "</tr>\n",
       "<tr>\n",
       "<td class=\"review-rating-header food_and_beverages\">Food &amp; Beverages</td>\n",
       "<td class=\"review-rating-stars stars\"><span class=\"star fill\">1</span><span class=\"star\">2</span><span class=\"star\">3</span><span class=\"star\">4</span><span class=\"star\">5</span></td>\n",
       "</tr>\n",
       "<tr>\n",
       "<td class=\"review-rating-header ground_service\">Ground Service</td>\n",
       "<td class=\"review-rating-stars stars\"><span class=\"star fill\">1</span><span class=\"star fill\">2</span><span class=\"star\">3</span><span class=\"star\">4</span><span class=\"star\">5</span></td>\n",
       "</tr>\n",
       "<tr>\n",
       "<td class=\"review-rating-header wifi_and_connectivity\">Wifi &amp; Connectivity</td>\n",
       "<td class=\"review-rating-stars stars\"><span class=\"star fill\">1</span><span class=\"star fill\">2</span><span class=\"star fill\">3</span><span class=\"star fill\">4</span><span class=\"star\">5</span></td>\n",
       "</tr>\n",
       "<tr>\n",
       "<td class=\"review-rating-header value_for_money\">Value For Money</td>\n",
       "<td class=\"review-rating-stars stars\"><span class=\"star fill\">1</span><span class=\"star\">2</span><span class=\"star\">3</span><span class=\"star\">4</span><span class=\"star\">5</span></td>\n",
       "</tr>\n",
       "<tr><td class=\"review-rating-header recommended\">Recommended</td><td class=\"review-value rating-no\">no</td></tr> </table>\n",
       "</div>\n",
       "</div>\n",
       "</div>\n",
       "<a class=\"toggle-click tc_mobile_only\" href=\"#anchor894161\"></a>\n",
       "</article>"
      ]
     },
     "execution_count": 38,
     "metadata": {},
     "output_type": "execute_result"
    }
   ],
   "source": [
    "reviewbox"
   ]
  },
  {
   "cell_type": "code",
   "execution_count": null,
   "id": "790a5e5b",
   "metadata": {},
   "outputs": [],
   "source": []
  },
  {
   "cell_type": "code",
   "execution_count": 39,
   "id": "16987d66",
   "metadata": {},
   "outputs": [],
   "source": [
    "headers = [\n",
    "    'date', 'name', 'place', 'aircraft', 'type_of_traveller', 'seat_type', 'route', 'date_flown', \n",
    "    'seat_comfort', 'cabin_staff_service', 'food_and_beverages', 'inflight_entertainment', \n",
    "    'ground_service', 'value_for_money', 'recommended', 'ratingvalue', 'review_title', \n",
    "    'verification', 'review_content'\n",
    "]"
   ]
  },
  {
   "cell_type": "code",
   "execution_count": 62,
   "id": "28ec56e8",
   "metadata": {},
   "outputs": [
    {
     "data": {
      "text/plain": [
       "['2024-06-18',\n",
       " 'N Thomas',\n",
       " 'United Kingdom',\n",
       " '',\n",
       " 'Couple Leisure',\n",
       " '',\n",
       " 'London Heathrow to Keflavik',\n",
       " 'June 2024',\n",
       " '2',\n",
       " '3',\n",
       " '1',\n",
       " '0',\n",
       " '3',\n",
       " '2',\n",
       " 'no',\n",
       " '2',\n",
       " 'cancelled our return flight',\n",
       " 'Not Verified',\n",
       " \"We travel extensively over 25 years and tend to use BA on our regular trips where possible and in recent years we have had overall good service from them however more recently we have experienced flight delays, operational issues, flight cancellations, poor check-in experiences etc. On our last two recent trips, one to Zurich and another to Iceland they had cancelled our return flight an hour or so prior to the scheduled departure time despite the flight showing as on time and no problems being reported. We have just returned from Iceland and our experience was one of the worst we have ever had with BA. Again our flight was just cancelled due to operational reasons but what made matters worse on this occasion was the flight was quite early at 7:45am. We went to bed at around 11pm (night before), checked the flight and it showed as being on time with again no issues being reported so we went to sleep fairly rest assured the the flight would be fine. We woke up at 5:30am and then discovered our flight had been cancelled without any warning! We were then left with virtually no other return flight options for that day. It soon got worse as the earliest flight option then being offered by BA was 3 days later! We opted to choose Tuesday with BA as we were left with no other option! If we hadn't acted quickly the Tuesday availability was sure to sell out leaving us with a return option of Wednesday onwards having experienced the same problem with BA in Zurich back in December. We were lucky on this occasion as BA offered several flights back on the same day in Zurich but this wasn't the case with Iceland! We were then left in a right predicament as hotel availability in Iceland was very limited to non existent given the very short notice of our cancelled flight. Our hotel was fully booked and our hire car had to be returned to the airport. From a logistical point of view this was a complete nightmare having to then rebook another hire car and to find alternative hotels. We then decided to search for any in-direct flights online to get us back to the UK sooner with another airline and after a good half hour of searching we came across an in-direct flight into Gatwick with Norwegian Air but it went via Oslo and a total journey time of 8 hours! This was not ideal as our car was in Heathrow! Assessing our options which were virtually none, we had no guarantees that the flight with BA on Tuesday would also have proceeded on time and checking with Norwegian Air both flights were on time and looked promising so we decided to get these booked at an additional expense of £600! If we had stayed in Iceland we would have also incurred additional cost to then fight back with BA or the insurance company. Our priority was to return home ASAP as we had important work and personal commitments on the Monday so we had to return ASAP. We eventually flew back fine with Norwegian Air and the service we received was far superior to that of BA. The boarding process was slick on both flights compared to a complete shambles with BA. Norwegian Air offered a full food trolley service with soft drinks, tea's and also a range of alcoholic drinks. Compare this to just the water and snack bar on BA!! Both flights were on time and we eventually landed in Gatwick shortly after our expected arrival time. We got back very late home after having to then book a hire car at Gatwick and in the morning we contacted BA to cancel our alternative Tuesday flight\"]"
      ]
     },
     "execution_count": 62,
     "metadata": {},
     "output_type": "execute_result"
    }
   ],
   "source": [
    "rows[3]"
   ]
  },
  {
   "cell_type": "code",
   "execution_count": null,
   "id": "45d882d6",
   "metadata": {},
   "outputs": [],
   "source": []
  },
  {
   "cell_type": "code",
   "execution_count": 63,
   "id": "c070d5c1",
   "metadata": {},
   "outputs": [],
   "source": [
    "df = pd.DataFrame(rows, columns=headers)"
   ]
  },
  {
   "cell_type": "code",
   "execution_count": 64,
   "id": "3fba44e2",
   "metadata": {},
   "outputs": [
    {
     "data": {
      "text/html": [
       "<div>\n",
       "<style scoped>\n",
       "    .dataframe tbody tr th:only-of-type {\n",
       "        vertical-align: middle;\n",
       "    }\n",
       "\n",
       "    .dataframe tbody tr th {\n",
       "        vertical-align: top;\n",
       "    }\n",
       "\n",
       "    .dataframe thead th {\n",
       "        text-align: right;\n",
       "    }\n",
       "</style>\n",
       "<table border=\"1\" class=\"dataframe\">\n",
       "  <thead>\n",
       "    <tr style=\"text-align: right;\">\n",
       "      <th></th>\n",
       "      <th>date</th>\n",
       "      <th>name</th>\n",
       "      <th>place</th>\n",
       "      <th>aircraft</th>\n",
       "      <th>type_of_traveller</th>\n",
       "      <th>seat_type</th>\n",
       "      <th>route</th>\n",
       "      <th>date_flown</th>\n",
       "      <th>seat_comfort</th>\n",
       "      <th>cabin_staff_service</th>\n",
       "      <th>food_and_beverages</th>\n",
       "      <th>inflight_entertainment</th>\n",
       "      <th>ground_service</th>\n",
       "      <th>value_for_money</th>\n",
       "      <th>recommended</th>\n",
       "      <th>ratingvalue</th>\n",
       "      <th>review_title</th>\n",
       "      <th>verification</th>\n",
       "      <th>review_content</th>\n",
       "    </tr>\n",
       "  </thead>\n",
       "  <tbody>\n",
       "    <tr>\n",
       "      <th>0</th>\n",
       "      <td>2024-06-23</td>\n",
       "      <td>J Fang</td>\n",
       "      <td>Canada</td>\n",
       "      <td>A350-1000</td>\n",
       "      <td>Solo Leisure</td>\n",
       "      <td></td>\n",
       "      <td>London Heathrow to Vancouver</td>\n",
       "      <td>June 2024</td>\n",
       "      <td>2</td>\n",
       "      <td>2</td>\n",
       "      <td>1</td>\n",
       "      <td>2</td>\n",
       "      <td>2</td>\n",
       "      <td>1</td>\n",
       "      <td>no</td>\n",
       "      <td>3</td>\n",
       "      <td>cannot recommend BA</td>\n",
       "      <td>✅ Trip Verified</td>\n",
       "      <td>While BA may have made some positive improveme...</td>\n",
       "    </tr>\n",
       "    <tr>\n",
       "      <th>1</th>\n",
       "      <td>2024-06-23</td>\n",
       "      <td>J Fang</td>\n",
       "      <td>Canada</td>\n",
       "      <td>A350-1000</td>\n",
       "      <td>Solo Leisure</td>\n",
       "      <td></td>\n",
       "      <td>Vancouver to London Heathrow</td>\n",
       "      <td>June 2024</td>\n",
       "      <td>3</td>\n",
       "      <td>3</td>\n",
       "      <td>3</td>\n",
       "      <td>3</td>\n",
       "      <td>1</td>\n",
       "      <td>2</td>\n",
       "      <td>no</td>\n",
       "      <td>5</td>\n",
       "      <td>“a very poor last impression of BA”</td>\n",
       "      <td>✅ Trip Verified</td>\n",
       "      <td>British Airways new Club Suite is a marked imp...</td>\n",
       "    </tr>\n",
       "    <tr>\n",
       "      <th>2</th>\n",
       "      <td>2024-06-18</td>\n",
       "      <td>Caleb Lowe</td>\n",
       "      <td>United Kingdom</td>\n",
       "      <td>A320/A380</td>\n",
       "      <td>Couple Leisure</td>\n",
       "      <td></td>\n",
       "      <td>Belfast to San Francisco via London</td>\n",
       "      <td>April 2024</td>\n",
       "      <td>5</td>\n",
       "      <td>5</td>\n",
       "      <td>3</td>\n",
       "      <td>3</td>\n",
       "      <td>5</td>\n",
       "      <td>4</td>\n",
       "      <td>yes</td>\n",
       "      <td>9</td>\n",
       "      <td>happy to recommend BA</td>\n",
       "      <td>✅ Trip Verified</td>\n",
       "      <td>Four very pleasant, on time flights with frien...</td>\n",
       "    </tr>\n",
       "    <tr>\n",
       "      <th>3</th>\n",
       "      <td>2024-06-18</td>\n",
       "      <td>N Thomas</td>\n",
       "      <td>United Kingdom</td>\n",
       "      <td></td>\n",
       "      <td>Couple Leisure</td>\n",
       "      <td></td>\n",
       "      <td>London Heathrow to Keflavik</td>\n",
       "      <td>June 2024</td>\n",
       "      <td>2</td>\n",
       "      <td>3</td>\n",
       "      <td>1</td>\n",
       "      <td>0</td>\n",
       "      <td>3</td>\n",
       "      <td>2</td>\n",
       "      <td>no</td>\n",
       "      <td>2</td>\n",
       "      <td>cancelled our return flight</td>\n",
       "      <td>Not Verified</td>\n",
       "      <td>We travel extensively over 25 years and tend t...</td>\n",
       "    </tr>\n",
       "    <tr>\n",
       "      <th>4</th>\n",
       "      <td>2024-06-17</td>\n",
       "      <td>N Carter</td>\n",
       "      <td>United Kingdom</td>\n",
       "      <td>Boeing 777</td>\n",
       "      <td>Solo Leisure</td>\n",
       "      <td></td>\n",
       "      <td>New York JFK to London Heathrow</td>\n",
       "      <td>June 2024</td>\n",
       "      <td>5</td>\n",
       "      <td>5</td>\n",
       "      <td>4</td>\n",
       "      <td>3</td>\n",
       "      <td>1</td>\n",
       "      <td>2</td>\n",
       "      <td>yes</td>\n",
       "      <td>8</td>\n",
       "      <td>Very good experience all round</td>\n",
       "      <td>✅ Trip Verified</td>\n",
       "      <td>Flight delayed an hour due to bad weather arou...</td>\n",
       "    </tr>\n",
       "  </tbody>\n",
       "</table>\n",
       "</div>"
      ],
      "text/plain": [
       "         date        name           place    aircraft type_of_traveller  \\\n",
       "0  2024-06-23      J Fang          Canada   A350-1000      Solo Leisure   \n",
       "1  2024-06-23     J Fang           Canada   A350-1000      Solo Leisure   \n",
       "2  2024-06-18  Caleb Lowe  United Kingdom   A320/A380    Couple Leisure   \n",
       "3  2024-06-18    N Thomas  United Kingdom                Couple Leisure   \n",
       "4  2024-06-17    N Carter  United Kingdom  Boeing 777      Solo Leisure   \n",
       "\n",
       "  seat_type                                route  date_flown seat_comfort  \\\n",
       "0                   London Heathrow to Vancouver   June 2024            2   \n",
       "1                   Vancouver to London Heathrow   June 2024            3   \n",
       "2            Belfast to San Francisco via London  April 2024            5   \n",
       "3                    London Heathrow to Keflavik   June 2024            2   \n",
       "4                New York JFK to London Heathrow   June 2024            5   \n",
       "\n",
       "  cabin_staff_service food_and_beverages inflight_entertainment  \\\n",
       "0                   2                  1                      2   \n",
       "1                   3                  3                      3   \n",
       "2                   5                  3                      3   \n",
       "3                   3                  1                      0   \n",
       "4                   5                  4                      3   \n",
       "\n",
       "  ground_service value_for_money recommended ratingvalue  \\\n",
       "0              2               1          no           3   \n",
       "1              1               2          no           5   \n",
       "2              5               4         yes           9   \n",
       "3              3               2          no           2   \n",
       "4              1               2         yes           8   \n",
       "\n",
       "                          review_title     verification  \\\n",
       "0                  cannot recommend BA  ✅ Trip Verified   \n",
       "1  “a very poor last impression of BA”  ✅ Trip Verified   \n",
       "2                happy to recommend BA  ✅ Trip Verified   \n",
       "3          cancelled our return flight     Not Verified   \n",
       "4       Very good experience all round  ✅ Trip Verified   \n",
       "\n",
       "                                      review_content  \n",
       "0  While BA may have made some positive improveme...  \n",
       "1  British Airways new Club Suite is a marked imp...  \n",
       "2  Four very pleasant, on time flights with frien...  \n",
       "3  We travel extensively over 25 years and tend t...  \n",
       "4  Flight delayed an hour due to bad weather arou...  "
      ]
     },
     "execution_count": 64,
     "metadata": {},
     "output_type": "execute_result"
    }
   ],
   "source": [
    "df.head()"
   ]
  },
  {
   "cell_type": "code",
   "execution_count": 246,
   "id": "68c7e996",
   "metadata": {},
   "outputs": [],
   "source": [
    "#YAY we have a dataframe now!! "
   ]
  },
  {
   "cell_type": "code",
   "execution_count": 59,
   "id": "05809474",
   "metadata": {},
   "outputs": [
    {
     "data": {
      "text/html": [
       "<div>\n",
       "<style scoped>\n",
       "    .dataframe tbody tr th:only-of-type {\n",
       "        vertical-align: middle;\n",
       "    }\n",
       "\n",
       "    .dataframe tbody tr th {\n",
       "        vertical-align: top;\n",
       "    }\n",
       "\n",
       "    .dataframe thead th {\n",
       "        text-align: right;\n",
       "    }\n",
       "</style>\n",
       "<table border=\"1\" class=\"dataframe\">\n",
       "  <thead>\n",
       "    <tr style=\"text-align: right;\">\n",
       "      <th></th>\n",
       "      <th>date</th>\n",
       "      <th>name</th>\n",
       "      <th>place</th>\n",
       "      <th>aircraft</th>\n",
       "      <th>type_of_traveller</th>\n",
       "      <th>seat_type</th>\n",
       "      <th>route</th>\n",
       "      <th>date_flown</th>\n",
       "      <th>seat_comfort</th>\n",
       "      <th>cabin_staff_service</th>\n",
       "      <th>food_and_beverages</th>\n",
       "      <th>inflight_entertainment</th>\n",
       "      <th>ground_service</th>\n",
       "      <th>value_for_money</th>\n",
       "      <th>recommended</th>\n",
       "      <th>ratingvalue</th>\n",
       "      <th>review_title</th>\n",
       "      <th>verification</th>\n",
       "      <th>review_content</th>\n",
       "    </tr>\n",
       "  </thead>\n",
       "  <tbody>\n",
       "    <tr>\n",
       "      <th>count</th>\n",
       "      <td>1000</td>\n",
       "      <td>1000</td>\n",
       "      <td>1000</td>\n",
       "      <td>1000</td>\n",
       "      <td>1000</td>\n",
       "      <td>1000</td>\n",
       "      <td>1000</td>\n",
       "      <td>1000</td>\n",
       "      <td>1000</td>\n",
       "      <td>1000</td>\n",
       "      <td>1000</td>\n",
       "      <td>1000</td>\n",
       "      <td>1000</td>\n",
       "      <td>1000</td>\n",
       "      <td>1000</td>\n",
       "      <td>1000</td>\n",
       "      <td>1000</td>\n",
       "      <td>1000</td>\n",
       "      <td>1000</td>\n",
       "    </tr>\n",
       "    <tr>\n",
       "      <th>unique</th>\n",
       "      <td>713</td>\n",
       "      <td>865</td>\n",
       "      <td>55</td>\n",
       "      <td>81</td>\n",
       "      <td>5</td>\n",
       "      <td>1</td>\n",
       "      <td>649</td>\n",
       "      <td>67</td>\n",
       "      <td>6</td>\n",
       "      <td>6</td>\n",
       "      <td>6</td>\n",
       "      <td>6</td>\n",
       "      <td>6</td>\n",
       "      <td>5</td>\n",
       "      <td>2</td>\n",
       "      <td>10</td>\n",
       "      <td>985</td>\n",
       "      <td>4</td>\n",
       "      <td>1000</td>\n",
       "    </tr>\n",
       "    <tr>\n",
       "      <th>top</th>\n",
       "      <td>2019-12-08</td>\n",
       "      <td>E Smyth</td>\n",
       "      <td>United Kingdom</td>\n",
       "      <td></td>\n",
       "      <td>Couple Leisure</td>\n",
       "      <td></td>\n",
       "      <td>Vancouver to London</td>\n",
       "      <td>October 2019</td>\n",
       "      <td>1</td>\n",
       "      <td>5</td>\n",
       "      <td>1</td>\n",
       "      <td>0</td>\n",
       "      <td>1</td>\n",
       "      <td>1</td>\n",
       "      <td>no</td>\n",
       "      <td>1</td>\n",
       "      <td>Overall a good flight</td>\n",
       "      <td>✅ Trip Verified</td>\n",
       "      <td>While BA may have made some positive improveme...</td>\n",
       "    </tr>\n",
       "    <tr>\n",
       "      <th>freq</th>\n",
       "      <td>7</td>\n",
       "      <td>19</td>\n",
       "      <td>566</td>\n",
       "      <td>466</td>\n",
       "      <td>343</td>\n",
       "      <td>1000</td>\n",
       "      <td>9</td>\n",
       "      <td>36</td>\n",
       "      <td>252</td>\n",
       "      <td>248</td>\n",
       "      <td>261</td>\n",
       "      <td>478</td>\n",
       "      <td>396</td>\n",
       "      <td>448</td>\n",
       "      <td>680</td>\n",
       "      <td>365</td>\n",
       "      <td>3</td>\n",
       "      <td>759</td>\n",
       "      <td>1</td>\n",
       "    </tr>\n",
       "  </tbody>\n",
       "</table>\n",
       "</div>"
      ],
      "text/plain": [
       "              date     name           place aircraft type_of_traveller  \\\n",
       "count         1000     1000            1000     1000              1000   \n",
       "unique         713      865              55       81                 5   \n",
       "top     2019-12-08  E Smyth  United Kingdom             Couple Leisure   \n",
       "freq             7       19             566      466               343   \n",
       "\n",
       "       seat_type                route    date_flown seat_comfort  \\\n",
       "count       1000                 1000          1000         1000   \n",
       "unique         1                  649            67            6   \n",
       "top               Vancouver to London  October 2019            1   \n",
       "freq        1000                    9            36          252   \n",
       "\n",
       "       cabin_staff_service food_and_beverages inflight_entertainment  \\\n",
       "count                 1000               1000                   1000   \n",
       "unique                   6                  6                      6   \n",
       "top                      5                  1                      0   \n",
       "freq                   248                261                    478   \n",
       "\n",
       "       ground_service value_for_money recommended ratingvalue  \\\n",
       "count            1000            1000        1000        1000   \n",
       "unique              6               5           2          10   \n",
       "top                 1               1          no           1   \n",
       "freq              396             448         680         365   \n",
       "\n",
       "                 review_title     verification  \\\n",
       "count                    1000             1000   \n",
       "unique                    985                4   \n",
       "top     Overall a good flight  ✅ Trip Verified   \n",
       "freq                        3              759   \n",
       "\n",
       "                                           review_content  \n",
       "count                                                1000  \n",
       "unique                                               1000  \n",
       "top     While BA may have made some positive improveme...  \n",
       "freq                                                    1  "
      ]
     },
     "execution_count": 59,
     "metadata": {},
     "output_type": "execute_result"
    }
   ],
   "source": [
    "df.describe()"
   ]
  },
  {
   "cell_type": "code",
   "execution_count": 60,
   "id": "bb1d698a",
   "metadata": {},
   "outputs": [],
   "source": [
    "path = 'BritishAirwayReviews.csv'\n",
    "df.to_csv(path)"
   ]
  },
  {
   "cell_type": "code",
   "execution_count": null,
   "id": "3f9945be",
   "metadata": {},
   "outputs": [],
   "source": []
  }
 ],
 "metadata": {
  "kernelspec": {
   "display_name": "Python 3",
   "language": "python",
   "name": "python3"
  },
  "language_info": {
   "codemirror_mode": {
    "name": "ipython",
    "version": 3
   },
   "file_extension": ".py",
   "mimetype": "text/x-python",
   "name": "python",
   "nbconvert_exporter": "python",
   "pygments_lexer": "ipython3",
   "version": "3.12.3"
  }
 },
 "nbformat": 4,
 "nbformat_minor": 5
}
